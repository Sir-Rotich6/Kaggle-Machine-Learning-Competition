{
 "cells": [
  {
   "cell_type": "markdown",
   "id": "b9ad4e8a",
   "metadata": {
    "papermill": {
     "duration": 0.021773,
     "end_time": "2024-03-15T20:01:44.415633",
     "exception": false,
     "start_time": "2024-03-15T20:01:44.393860",
     "status": "completed"
    },
    "tags": []
   },
   "source": []
  },
  {
   "cell_type": "code",
   "execution_count": 1,
   "id": "dd72360c",
   "metadata": {
    "execution": {
     "iopub.execute_input": "2024-03-15T20:01:44.459793Z",
     "iopub.status.busy": "2024-03-15T20:01:44.459036Z",
     "iopub.status.idle": "2024-03-15T20:01:49.633669Z",
     "shell.execute_reply": "2024-03-15T20:01:49.632707Z"
    },
    "papermill": {
     "duration": 5.200182,
     "end_time": "2024-03-15T20:01:49.636670",
     "exception": false,
     "start_time": "2024-03-15T20:01:44.436488",
     "status": "completed"
    },
    "tags": []
   },
   "outputs": [],
   "source": [
    "import pandas as pd\n",
    "\n",
    "# Import libraries\n",
    "from sklearn.model_selection import cross_val_score, train_test_split\n",
    "from scipy.stats import linregress\n",
    "from tqdm import tqdm\n",
    "import glob\n",
    "import lightgbm as lgb\n",
    "import numpy as np  # linear algebra\n",
    "import optuna as op\n",
    "import os\n",
    "import matplotlib.pyplot as plt\n",
    "from sklearn import tree\n",
    "from sklearn.preprocessing import StandardScaler, MinMaxScaler\n",
    "from sklearn.metrics import log_loss\n",
    "from xgboost import XGBClassifier"
   ]
  },
  {
   "cell_type": "code",
   "execution_count": 2,
   "id": "fe36142d",
   "metadata": {
    "execution": {
     "iopub.execute_input": "2024-03-15T20:01:49.699971Z",
     "iopub.status.busy": "2024-03-15T20:01:49.699197Z",
     "iopub.status.idle": "2024-03-15T20:01:50.831123Z",
     "shell.execute_reply": "2024-03-15T20:01:50.830038Z"
    },
    "papermill": {
     "duration": 1.167743,
     "end_time": "2024-03-15T20:01:50.833643",
     "exception": false,
     "start_time": "2024-03-15T20:01:49.665900",
     "status": "completed"
    },
    "tags": []
   },
   "outputs": [
    {
     "name": "stdout",
     "output_type": "stream",
     "text": [
      "total 143M\r\n",
      "   0 drwxr-xr-x 2 nobody    0 Mar  6 18:06 ./\r\n",
      "4.0K drwxr-xr-x 3 root   4.0K Mar 15 20:01 ../\r\n",
      "4.0K -rw-r--r-- 1 nobody 1.4K Mar  6 18:06 2024_tourney_seeds.csv\r\n",
      " 12K -rw-r--r-- 1 nobody 9.1K Mar  6 18:06 Cities.csv\r\n",
      "4.0K -rw-r--r-- 1 nobody 1.7K Mar  6 18:06 Conferences.csv\r\n",
      "160K -rw-r--r-- 1 nobody 160K Mar  6 18:06 MConferenceTourneyGames.csv\r\n",
      "2.5M -rw-r--r-- 1 nobody 2.5M Mar  6 18:06 MGameCities.csv\r\n",
      "110M -rw-r--r-- 1 nobody 110M Mar  6 18:06 MMasseyOrdinals.csv\r\n",
      " 72K -rw-r--r-- 1 nobody  72K Mar  6 18:06 MNCAATourneyCompactResults.csv\r\n",
      "132K -rw-r--r-- 1 nobody 129K Mar  6 18:06 MNCAATourneyDetailedResults.csv\r\n",
      " 16K -rw-r--r-- 1 nobody  15K Mar  6 18:06 MNCAATourneySeedRoundSlots.csv\r\n",
      " 40K -rw-r--r-- 1 nobody  37K Mar  6 18:06 MNCAATourneySeeds.csv\r\n",
      " 48K -rw-r--r-- 1 nobody  48K Mar  6 18:06 MNCAATourneySlots.csv\r\n",
      "5.3M -rw-r--r-- 1 nobody 5.3M Mar  6 18:06 MRegularSeasonCompactResults.csv\r\n",
      " 11M -rw-r--r-- 1 nobody  11M Mar  6 18:06 MRegularSeasonDetailedResults.csv\r\n",
      "4.0K -rw-r--r-- 1 nobody 1.8K Mar  6 18:06 MSeasons.csv\r\n",
      " 60K -rw-r--r-- 1 nobody  59K Mar  6 18:06 MSecondaryTourneyCompactResults.csv\r\n",
      " 28K -rw-r--r-- 1 nobody  27K Mar  6 18:06 MSecondaryTourneyTeams.csv\r\n",
      "384K -rw-r--r-- 1 nobody 384K Mar  6 18:06 MTeamCoaches.csv\r\n",
      "220K -rw-r--r-- 1 nobody 220K Mar  6 18:06 MTeamConferences.csv\r\n",
      " 24K -rw-r--r-- 1 nobody  23K Mar  6 18:06 MTeamSpellings.csv\r\n",
      " 12K -rw-r--r-- 1 nobody 9.8K Mar  6 18:06 MTeams.csv\r\n",
      "2.4M -rw-r--r-- 1 nobody 2.4M Mar  6 18:06 WGameCities.csv\r\n",
      " 48K -rw-r--r-- 1 nobody  47K Mar  6 18:06 WNCAATourneyCompactResults.csv\r\n",
      " 84K -rw-r--r-- 1 nobody  82K Mar  6 18:06 WNCAATourneyDetailedResults.csv\r\n",
      " 24K -rw-r--r-- 1 nobody  24K Mar  6 18:06 WNCAATourneySeeds.csv\r\n",
      " 36K -rw-r--r-- 1 nobody  33K Mar  6 18:06 WNCAATourneySlots.csv\r\n",
      "3.7M -rw-r--r-- 1 nobody 3.7M Mar  6 18:06 WRegularSeasonCompactResults.csv\r\n",
      "7.2M -rw-r--r-- 1 nobody 7.2M Mar  6 18:06 WRegularSeasonDetailedResults.csv\r\n",
      "4.0K -rw-r--r-- 1 nobody 1.4K Mar  6 18:06 WSeasons.csv\r\n",
      "156K -rw-r--r-- 1 nobody 154K Mar  6 18:06 WTeamConferences.csv\r\n",
      " 24K -rw-r--r-- 1 nobody  22K Mar  6 18:06 WTeamSpellings.csv\r\n",
      "8.0K -rw-r--r-- 1 nobody 6.1K Mar  6 18:06 WTeams.csv\r\n",
      "4.0K -rw-r--r-- 1 nobody 2.1K Mar  6 18:06 sample_submission.csv\r\n"
     ]
    }
   ],
   "source": [
    "!ls -GFlash ../input/march-machine-learning-mania-2024/"
   ]
  },
  {
   "cell_type": "code",
   "execution_count": 3,
   "id": "a7f46f1b",
   "metadata": {
    "execution": {
     "iopub.execute_input": "2024-03-15T20:01:50.878837Z",
     "iopub.status.busy": "2024-03-15T20:01:50.878037Z",
     "iopub.status.idle": "2024-03-15T20:01:50.932542Z",
     "shell.execute_reply": "2024-03-15T20:01:50.931394Z"
    },
    "papermill": {
     "duration": 0.080503,
     "end_time": "2024-03-15T20:01:50.935488",
     "exception": false,
     "start_time": "2024-03-15T20:01:50.854985",
     "status": "completed"
    },
    "tags": []
   },
   "outputs": [],
   "source": [
    "# Define constants\n",
    "INPUT_DIR = \"../input/march-machine-learning-mania-2024/\"\n",
    "DATA_PATH = INPUT_DIR\n",
    "\n",
    "# Read datasets\n",
    "tourney_seeds = pd.read_csv(INPUT_DIR + \"2024_tourney_seeds.csv\")\n",
    "mteams = pd.read_csv(INPUT_DIR + \"MTeams.csv\")\n",
    "wteams = pd.read_csv(INPUT_DIR + \"WTeams.csv\")\n",
    "\n",
    "# Concatenate MTeams and WTeams\n",
    "mteams[\"Tournament\"] = \"M\"\n",
    "wteams[\"Tournament\"] = \"W\"\n",
    "teams = pd.concat([mteams, wteams])\n",
    "\n",
    "# Map TeamID to TeamName\n",
    "team_map = mteams.set_index(\"TeamID\")[\"TeamName\"]\n",
    "tourney_seeds[\"TeamName\"] = tourney_seeds[\"TeamID\"].map(team_map)\n",
    "\n",
    "# Extract Region and ChalkRank from Seed\n",
    "tourney_seeds[\"Region\"] = tourney_seeds[\"Seed\"].str[0]\n",
    "tourney_seeds[\"ChalkRank\"] = tourney_seeds[\"Seed\"].str[1:].astype(\"int\")"
   ]
  },
  {
   "cell_type": "code",
   "execution_count": 4,
   "id": "0ae2c3cb",
   "metadata": {
    "execution": {
     "iopub.execute_input": "2024-03-15T20:01:50.981197Z",
     "iopub.status.busy": "2024-03-15T20:01:50.980764Z",
     "iopub.status.idle": "2024-03-15T20:01:51.001710Z",
     "shell.execute_reply": "2024-03-15T20:01:51.000893Z"
    },
    "papermill": {
     "duration": 0.046136,
     "end_time": "2024-03-15T20:01:51.004220",
     "exception": false,
     "start_time": "2024-03-15T20:01:50.958084",
     "status": "completed"
    },
    "tags": []
   },
   "outputs": [],
   "source": [
    "# Read MNCAATourneySeeds and MNCAATourneySlots datasets\n",
    "mtourney_seeds = pd.read_csv(INPUT_DIR + \"MNCAATourneySeeds.csv\")\n",
    "mtourney_slots = pd.read_csv(INPUT_DIR + \"MNCAATourneySlots.csv\")"
   ]
  },
  {
   "cell_type": "code",
   "execution_count": 5,
   "id": "60f0f902",
   "metadata": {
    "execution": {
     "iopub.execute_input": "2024-03-15T20:01:51.049413Z",
     "iopub.status.busy": "2024-03-15T20:01:51.048702Z",
     "iopub.status.idle": "2024-03-15T20:01:51.071386Z",
     "shell.execute_reply": "2024-03-15T20:01:51.070265Z"
    },
    "papermill": {
     "duration": 0.048439,
     "end_time": "2024-03-15T20:01:51.073838",
     "exception": false,
     "start_time": "2024-03-15T20:01:51.025399",
     "status": "completed"
    },
    "tags": []
   },
   "outputs": [
    {
     "data": {
      "text/html": [
       "<div>\n",
       "<style scoped>\n",
       "    .dataframe tbody tr th:only-of-type {\n",
       "        vertical-align: middle;\n",
       "    }\n",
       "\n",
       "    .dataframe tbody tr th {\n",
       "        vertical-align: top;\n",
       "    }\n",
       "\n",
       "    .dataframe thead th {\n",
       "        text-align: right;\n",
       "    }\n",
       "</style>\n",
       "<table border=\"1\" class=\"dataframe\">\n",
       "  <thead>\n",
       "    <tr style=\"text-align: right;\">\n",
       "      <th></th>\n",
       "      <th>Season</th>\n",
       "      <th>Seed</th>\n",
       "      <th>TeamID</th>\n",
       "    </tr>\n",
       "  </thead>\n",
       "  <tbody>\n",
       "    <tr>\n",
       "      <th>0</th>\n",
       "      <td>1985</td>\n",
       "      <td>W01</td>\n",
       "      <td>1207</td>\n",
       "    </tr>\n",
       "    <tr>\n",
       "      <th>1</th>\n",
       "      <td>1985</td>\n",
       "      <td>W02</td>\n",
       "      <td>1210</td>\n",
       "    </tr>\n",
       "    <tr>\n",
       "      <th>2</th>\n",
       "      <td>1985</td>\n",
       "      <td>W03</td>\n",
       "      <td>1228</td>\n",
       "    </tr>\n",
       "    <tr>\n",
       "      <th>3</th>\n",
       "      <td>1985</td>\n",
       "      <td>W04</td>\n",
       "      <td>1260</td>\n",
       "    </tr>\n",
       "    <tr>\n",
       "      <th>4</th>\n",
       "      <td>1985</td>\n",
       "      <td>W05</td>\n",
       "      <td>1374</td>\n",
       "    </tr>\n",
       "    <tr>\n",
       "      <th>...</th>\n",
       "      <td>...</td>\n",
       "      <td>...</td>\n",
       "      <td>...</td>\n",
       "    </tr>\n",
       "    <tr>\n",
       "      <th>2485</th>\n",
       "      <td>2023</td>\n",
       "      <td>Z12</td>\n",
       "      <td>1433</td>\n",
       "    </tr>\n",
       "    <tr>\n",
       "      <th>2486</th>\n",
       "      <td>2023</td>\n",
       "      <td>Z13</td>\n",
       "      <td>1233</td>\n",
       "    </tr>\n",
       "    <tr>\n",
       "      <th>2487</th>\n",
       "      <td>2023</td>\n",
       "      <td>Z14</td>\n",
       "      <td>1213</td>\n",
       "    </tr>\n",
       "    <tr>\n",
       "      <th>2488</th>\n",
       "      <td>2023</td>\n",
       "      <td>Z15</td>\n",
       "      <td>1421</td>\n",
       "    </tr>\n",
       "    <tr>\n",
       "      <th>2489</th>\n",
       "      <td>2023</td>\n",
       "      <td>Z16</td>\n",
       "      <td>1224</td>\n",
       "    </tr>\n",
       "  </tbody>\n",
       "</table>\n",
       "<p>2490 rows × 3 columns</p>\n",
       "</div>"
      ],
      "text/plain": [
       "      Season Seed  TeamID\n",
       "0       1985  W01    1207\n",
       "1       1985  W02    1210\n",
       "2       1985  W03    1228\n",
       "3       1985  W04    1260\n",
       "4       1985  W05    1374\n",
       "...      ...  ...     ...\n",
       "2485    2023  Z12    1433\n",
       "2486    2023  Z13    1233\n",
       "2487    2023  Z14    1213\n",
       "2488    2023  Z15    1421\n",
       "2489    2023  Z16    1224\n",
       "\n",
       "[2490 rows x 3 columns]"
      ]
     },
     "execution_count": 5,
     "metadata": {},
     "output_type": "execute_result"
    }
   ],
   "source": [
    "mtourney_seeds"
   ]
  },
  {
   "cell_type": "code",
   "execution_count": 6,
   "id": "98e18df8",
   "metadata": {
    "execution": {
     "iopub.execute_input": "2024-03-15T20:01:51.118065Z",
     "iopub.status.busy": "2024-03-15T20:01:51.117661Z",
     "iopub.status.idle": "2024-03-15T20:01:51.124426Z",
     "shell.execute_reply": "2024-03-15T20:01:51.123325Z"
    },
    "papermill": {
     "duration": 0.031954,
     "end_time": "2024-03-15T20:01:51.126860",
     "exception": false,
     "start_time": "2024-03-15T20:01:51.094906",
     "status": "completed"
    },
    "tags": []
   },
   "outputs": [],
   "source": [
    "#Data preprocessing\n",
    "mtourney_slots[\"Round\"] = mtourney_slots[\"Slot\"].str[:2]"
   ]
  },
  {
   "cell_type": "code",
   "execution_count": 7,
   "id": "4dfbfed7",
   "metadata": {
    "execution": {
     "iopub.execute_input": "2024-03-15T20:01:51.171821Z",
     "iopub.status.busy": "2024-03-15T20:01:51.171203Z",
     "iopub.status.idle": "2024-03-15T20:01:51.193024Z",
     "shell.execute_reply": "2024-03-15T20:01:51.191942Z"
    },
    "papermill": {
     "duration": 0.04694,
     "end_time": "2024-03-15T20:01:51.195316",
     "exception": false,
     "start_time": "2024-03-15T20:01:51.148376",
     "status": "completed"
    },
    "tags": []
   },
   "outputs": [
    {
     "data": {
      "text/html": [
       "<div>\n",
       "<style scoped>\n",
       "    .dataframe tbody tr th:only-of-type {\n",
       "        vertical-align: middle;\n",
       "    }\n",
       "\n",
       "    .dataframe tbody tr th {\n",
       "        vertical-align: top;\n",
       "    }\n",
       "\n",
       "    .dataframe thead th {\n",
       "        text-align: right;\n",
       "    }\n",
       "</style>\n",
       "<table border=\"1\" class=\"dataframe\">\n",
       "  <thead>\n",
       "    <tr style=\"text-align: right;\">\n",
       "      <th></th>\n",
       "      <th>Season</th>\n",
       "      <th>Slot</th>\n",
       "      <th>StrongSeed</th>\n",
       "      <th>WeakSeed</th>\n",
       "      <th>Round</th>\n",
       "    </tr>\n",
       "  </thead>\n",
       "  <tbody>\n",
       "    <tr>\n",
       "      <th>56</th>\n",
       "      <td>1985</td>\n",
       "      <td>R4W1</td>\n",
       "      <td>R3W1</td>\n",
       "      <td>R3W2</td>\n",
       "      <td>R4</td>\n",
       "    </tr>\n",
       "    <tr>\n",
       "      <th>57</th>\n",
       "      <td>1985</td>\n",
       "      <td>R4X1</td>\n",
       "      <td>R3X1</td>\n",
       "      <td>R3X2</td>\n",
       "      <td>R4</td>\n",
       "    </tr>\n",
       "    <tr>\n",
       "      <th>58</th>\n",
       "      <td>1985</td>\n",
       "      <td>R4Y1</td>\n",
       "      <td>R3Y1</td>\n",
       "      <td>R3Y2</td>\n",
       "      <td>R4</td>\n",
       "    </tr>\n",
       "    <tr>\n",
       "      <th>59</th>\n",
       "      <td>1985</td>\n",
       "      <td>R4Z1</td>\n",
       "      <td>R3Z1</td>\n",
       "      <td>R3Z2</td>\n",
       "      <td>R4</td>\n",
       "    </tr>\n",
       "    <tr>\n",
       "      <th>119</th>\n",
       "      <td>1986</td>\n",
       "      <td>R4W1</td>\n",
       "      <td>R3W1</td>\n",
       "      <td>R3W2</td>\n",
       "      <td>R4</td>\n",
       "    </tr>\n",
       "    <tr>\n",
       "      <th>...</th>\n",
       "      <td>...</td>\n",
       "      <td>...</td>\n",
       "      <td>...</td>\n",
       "      <td>...</td>\n",
       "      <td>...</td>\n",
       "    </tr>\n",
       "    <tr>\n",
       "      <th>2377</th>\n",
       "      <td>2022</td>\n",
       "      <td>R4Z1</td>\n",
       "      <td>R3Z1</td>\n",
       "      <td>R3Z2</td>\n",
       "      <td>R4</td>\n",
       "    </tr>\n",
       "    <tr>\n",
       "      <th>2441</th>\n",
       "      <td>2023</td>\n",
       "      <td>R4W1</td>\n",
       "      <td>R3W1</td>\n",
       "      <td>R3W2</td>\n",
       "      <td>R4</td>\n",
       "    </tr>\n",
       "    <tr>\n",
       "      <th>2442</th>\n",
       "      <td>2023</td>\n",
       "      <td>R4X1</td>\n",
       "      <td>R3X1</td>\n",
       "      <td>R3X2</td>\n",
       "      <td>R4</td>\n",
       "    </tr>\n",
       "    <tr>\n",
       "      <th>2443</th>\n",
       "      <td>2023</td>\n",
       "      <td>R4Y1</td>\n",
       "      <td>R3Y1</td>\n",
       "      <td>R3Y2</td>\n",
       "      <td>R4</td>\n",
       "    </tr>\n",
       "    <tr>\n",
       "      <th>2444</th>\n",
       "      <td>2023</td>\n",
       "      <td>R4Z1</td>\n",
       "      <td>R3Z1</td>\n",
       "      <td>R3Z2</td>\n",
       "      <td>R4</td>\n",
       "    </tr>\n",
       "  </tbody>\n",
       "</table>\n",
       "<p>152 rows × 5 columns</p>\n",
       "</div>"
      ],
      "text/plain": [
       "      Season  Slot StrongSeed WeakSeed Round\n",
       "56      1985  R4W1       R3W1     R3W2    R4\n",
       "57      1985  R4X1       R3X1     R3X2    R4\n",
       "58      1985  R4Y1       R3Y1     R3Y2    R4\n",
       "59      1985  R4Z1       R3Z1     R3Z2    R4\n",
       "119     1986  R4W1       R3W1     R3W2    R4\n",
       "...      ...   ...        ...      ...   ...\n",
       "2377    2022  R4Z1       R3Z1     R3Z2    R4\n",
       "2441    2023  R4W1       R3W1     R3W2    R4\n",
       "2442    2023  R4X1       R3X1     R3X2    R4\n",
       "2443    2023  R4Y1       R3Y1     R3Y2    R4\n",
       "2444    2023  R4Z1       R3Z1     R3Z2    R4\n",
       "\n",
       "[152 rows x 5 columns]"
      ]
     },
     "execution_count": 7,
     "metadata": {},
     "output_type": "execute_result"
    }
   ],
   "source": [
    "mtourney_slots.query('Round == \"R4\"')"
   ]
  },
  {
   "cell_type": "code",
   "execution_count": 8,
   "id": "29cc0ac2",
   "metadata": {
    "execution": {
     "iopub.execute_input": "2024-03-15T20:01:51.240302Z",
     "iopub.status.busy": "2024-03-15T20:01:51.239570Z",
     "iopub.status.idle": "2024-03-15T20:01:51.255932Z",
     "shell.execute_reply": "2024-03-15T20:01:51.254805Z"
    },
    "papermill": {
     "duration": 0.041245,
     "end_time": "2024-03-15T20:01:51.258192",
     "exception": false,
     "start_time": "2024-03-15T20:01:51.216947",
     "status": "completed"
    },
    "tags": []
   },
   "outputs": [
    {
     "data": {
      "text/html": [
       "<div>\n",
       "<style scoped>\n",
       "    .dataframe tbody tr th:only-of-type {\n",
       "        vertical-align: middle;\n",
       "    }\n",
       "\n",
       "    .dataframe tbody tr th {\n",
       "        vertical-align: top;\n",
       "    }\n",
       "\n",
       "    .dataframe thead th {\n",
       "        text-align: right;\n",
       "    }\n",
       "</style>\n",
       "<table border=\"1\" class=\"dataframe\">\n",
       "  <thead>\n",
       "    <tr style=\"text-align: right;\">\n",
       "      <th></th>\n",
       "      <th>Season</th>\n",
       "      <th>Slot</th>\n",
       "      <th>StrongSeed</th>\n",
       "      <th>WeakSeed</th>\n",
       "      <th>Round</th>\n",
       "    </tr>\n",
       "  </thead>\n",
       "  <tbody>\n",
       "    <tr>\n",
       "      <th>2385</th>\n",
       "      <td>2023</td>\n",
       "      <td>R1W1</td>\n",
       "      <td>W01</td>\n",
       "      <td>W16</td>\n",
       "      <td>R1</td>\n",
       "    </tr>\n",
       "    <tr>\n",
       "      <th>2386</th>\n",
       "      <td>2023</td>\n",
       "      <td>R1W2</td>\n",
       "      <td>W02</td>\n",
       "      <td>W15</td>\n",
       "      <td>R1</td>\n",
       "    </tr>\n",
       "    <tr>\n",
       "      <th>2387</th>\n",
       "      <td>2023</td>\n",
       "      <td>R1W3</td>\n",
       "      <td>W03</td>\n",
       "      <td>W14</td>\n",
       "      <td>R1</td>\n",
       "    </tr>\n",
       "    <tr>\n",
       "      <th>2388</th>\n",
       "      <td>2023</td>\n",
       "      <td>R1W4</td>\n",
       "      <td>W04</td>\n",
       "      <td>W13</td>\n",
       "      <td>R1</td>\n",
       "    </tr>\n",
       "    <tr>\n",
       "      <th>2389</th>\n",
       "      <td>2023</td>\n",
       "      <td>R1W5</td>\n",
       "      <td>W05</td>\n",
       "      <td>W12</td>\n",
       "      <td>R1</td>\n",
       "    </tr>\n",
       "    <tr>\n",
       "      <th>...</th>\n",
       "      <td>...</td>\n",
       "      <td>...</td>\n",
       "      <td>...</td>\n",
       "      <td>...</td>\n",
       "      <td>...</td>\n",
       "    </tr>\n",
       "    <tr>\n",
       "      <th>2447</th>\n",
       "      <td>2023</td>\n",
       "      <td>R6CH</td>\n",
       "      <td>R5WX</td>\n",
       "      <td>R5YZ</td>\n",
       "      <td>R6</td>\n",
       "    </tr>\n",
       "    <tr>\n",
       "      <th>2448</th>\n",
       "      <td>2023</td>\n",
       "      <td>W16</td>\n",
       "      <td>W16a</td>\n",
       "      <td>W16b</td>\n",
       "      <td>W1</td>\n",
       "    </tr>\n",
       "    <tr>\n",
       "      <th>2449</th>\n",
       "      <td>2023</td>\n",
       "      <td>X16</td>\n",
       "      <td>X16a</td>\n",
       "      <td>X16b</td>\n",
       "      <td>X1</td>\n",
       "    </tr>\n",
       "    <tr>\n",
       "      <th>2450</th>\n",
       "      <td>2023</td>\n",
       "      <td>Y11</td>\n",
       "      <td>Y11a</td>\n",
       "      <td>Y11b</td>\n",
       "      <td>Y1</td>\n",
       "    </tr>\n",
       "    <tr>\n",
       "      <th>2451</th>\n",
       "      <td>2023</td>\n",
       "      <td>Z11</td>\n",
       "      <td>Z11a</td>\n",
       "      <td>Z11b</td>\n",
       "      <td>Z1</td>\n",
       "    </tr>\n",
       "  </tbody>\n",
       "</table>\n",
       "<p>67 rows × 5 columns</p>\n",
       "</div>"
      ],
      "text/plain": [
       "      Season  Slot StrongSeed WeakSeed Round\n",
       "2385    2023  R1W1        W01      W16    R1\n",
       "2386    2023  R1W2        W02      W15    R1\n",
       "2387    2023  R1W3        W03      W14    R1\n",
       "2388    2023  R1W4        W04      W13    R1\n",
       "2389    2023  R1W5        W05      W12    R1\n",
       "...      ...   ...        ...      ...   ...\n",
       "2447    2023  R6CH       R5WX     R5YZ    R6\n",
       "2448    2023   W16       W16a     W16b    W1\n",
       "2449    2023   X16       X16a     X16b    X1\n",
       "2450    2023   Y11       Y11a     Y11b    Y1\n",
       "2451    2023   Z11       Z11a     Z11b    Z1\n",
       "\n",
       "[67 rows x 5 columns]"
      ]
     },
     "execution_count": 8,
     "metadata": {},
     "output_type": "execute_result"
    }
   ],
   "source": [
    "mtourney_slots.query(\"Season == 2023\")"
   ]
  },
  {
   "cell_type": "code",
   "execution_count": 9,
   "id": "5d3d1173",
   "metadata": {
    "execution": {
     "iopub.execute_input": "2024-03-15T20:01:51.302960Z",
     "iopub.status.busy": "2024-03-15T20:01:51.302537Z",
     "iopub.status.idle": "2024-03-15T20:01:51.318369Z",
     "shell.execute_reply": "2024-03-15T20:01:51.317294Z"
    },
    "papermill": {
     "duration": 0.040929,
     "end_time": "2024-03-15T20:01:51.320659",
     "exception": false,
     "start_time": "2024-03-15T20:01:51.279730",
     "status": "completed"
    },
    "tags": []
   },
   "outputs": [
    {
     "data": {
      "text/html": [
       "<div>\n",
       "<style scoped>\n",
       "    .dataframe tbody tr th:only-of-type {\n",
       "        vertical-align: middle;\n",
       "    }\n",
       "\n",
       "    .dataframe tbody tr th {\n",
       "        vertical-align: top;\n",
       "    }\n",
       "\n",
       "    .dataframe thead th {\n",
       "        text-align: right;\n",
       "    }\n",
       "</style>\n",
       "<table border=\"1\" class=\"dataframe\">\n",
       "  <thead>\n",
       "    <tr style=\"text-align: right;\">\n",
       "      <th></th>\n",
       "      <th>Tournament</th>\n",
       "      <th>Seed</th>\n",
       "      <th>TeamID</th>\n",
       "      <th>TeamName</th>\n",
       "      <th>Region</th>\n",
       "      <th>ChalkRank</th>\n",
       "    </tr>\n",
       "  </thead>\n",
       "  <tbody>\n",
       "    <tr>\n",
       "      <th>0</th>\n",
       "      <td>M</td>\n",
       "      <td>W01</td>\n",
       "      <td>1345</td>\n",
       "      <td>Purdue</td>\n",
       "      <td>W</td>\n",
       "      <td>1</td>\n",
       "    </tr>\n",
       "    <tr>\n",
       "      <th>16</th>\n",
       "      <td>M</td>\n",
       "      <td>X01</td>\n",
       "      <td>1104</td>\n",
       "      <td>Alabama</td>\n",
       "      <td>X</td>\n",
       "      <td>1</td>\n",
       "    </tr>\n",
       "    <tr>\n",
       "      <th>32</th>\n",
       "      <td>M</td>\n",
       "      <td>Y01</td>\n",
       "      <td>1222</td>\n",
       "      <td>Houston</td>\n",
       "      <td>Y</td>\n",
       "      <td>1</td>\n",
       "    </tr>\n",
       "    <tr>\n",
       "      <th>48</th>\n",
       "      <td>M</td>\n",
       "      <td>Z01</td>\n",
       "      <td>1242</td>\n",
       "      <td>Kansas</td>\n",
       "      <td>Z</td>\n",
       "      <td>1</td>\n",
       "    </tr>\n",
       "    <tr>\n",
       "      <th>64</th>\n",
       "      <td>W</td>\n",
       "      <td>W01</td>\n",
       "      <td>3376</td>\n",
       "      <td>NaN</td>\n",
       "      <td>W</td>\n",
       "      <td>1</td>\n",
       "    </tr>\n",
       "    <tr>\n",
       "      <th>80</th>\n",
       "      <td>W</td>\n",
       "      <td>X01</td>\n",
       "      <td>3390</td>\n",
       "      <td>NaN</td>\n",
       "      <td>X</td>\n",
       "      <td>1</td>\n",
       "    </tr>\n",
       "    <tr>\n",
       "      <th>96</th>\n",
       "      <td>W</td>\n",
       "      <td>Y01</td>\n",
       "      <td>3231</td>\n",
       "      <td>NaN</td>\n",
       "      <td>Y</td>\n",
       "      <td>1</td>\n",
       "    </tr>\n",
       "    <tr>\n",
       "      <th>112</th>\n",
       "      <td>W</td>\n",
       "      <td>Z01</td>\n",
       "      <td>3439</td>\n",
       "      <td>NaN</td>\n",
       "      <td>Z</td>\n",
       "      <td>1</td>\n",
       "    </tr>\n",
       "  </tbody>\n",
       "</table>\n",
       "</div>"
      ],
      "text/plain": [
       "    Tournament Seed  TeamID TeamName Region  ChalkRank\n",
       "0            M  W01    1345   Purdue      W          1\n",
       "16           M  X01    1104  Alabama      X          1\n",
       "32           M  Y01    1222  Houston      Y          1\n",
       "48           M  Z01    1242   Kansas      Z          1\n",
       "64           W  W01    3376      NaN      W          1\n",
       "80           W  X01    3390      NaN      X          1\n",
       "96           W  Y01    3231      NaN      Y          1\n",
       "112          W  Z01    3439      NaN      Z          1"
      ]
     },
     "execution_count": 9,
     "metadata": {},
     "output_type": "execute_result"
    }
   ],
   "source": [
    "tourney_seeds.query(\"ChalkRank == 1\")"
   ]
  },
  {
   "cell_type": "code",
   "execution_count": 10,
   "id": "98742e6d",
   "metadata": {
    "execution": {
     "iopub.execute_input": "2024-03-15T20:01:51.367147Z",
     "iopub.status.busy": "2024-03-15T20:01:51.365968Z",
     "iopub.status.idle": "2024-03-15T20:01:51.380435Z",
     "shell.execute_reply": "2024-03-15T20:01:51.379335Z"
    },
    "papermill": {
     "duration": 0.040198,
     "end_time": "2024-03-15T20:01:51.382569",
     "exception": false,
     "start_time": "2024-03-15T20:01:51.342371",
     "status": "completed"
    },
    "tags": []
   },
   "outputs": [
    {
     "data": {
      "text/html": [
       "<div>\n",
       "<style scoped>\n",
       "    .dataframe tbody tr th:only-of-type {\n",
       "        vertical-align: middle;\n",
       "    }\n",
       "\n",
       "    .dataframe tbody tr th {\n",
       "        vertical-align: top;\n",
       "    }\n",
       "\n",
       "    .dataframe thead th {\n",
       "        text-align: right;\n",
       "    }\n",
       "</style>\n",
       "<table border=\"1\" class=\"dataframe\">\n",
       "  <thead>\n",
       "    <tr style=\"text-align: right;\">\n",
       "      <th></th>\n",
       "      <th>TeamID</th>\n",
       "      <th>TeamName</th>\n",
       "      <th>FirstD1Season</th>\n",
       "      <th>LastD1Season</th>\n",
       "      <th>Tournament</th>\n",
       "    </tr>\n",
       "  </thead>\n",
       "  <tbody>\n",
       "    <tr>\n",
       "      <th>368</th>\n",
       "      <td>1469</td>\n",
       "      <td>Utah Tech</td>\n",
       "      <td>2021</td>\n",
       "      <td>2024</td>\n",
       "      <td>M</td>\n",
       "    </tr>\n",
       "    <tr>\n",
       "      <th>369</th>\n",
       "      <td>1470</td>\n",
       "      <td>Tarleton St</td>\n",
       "      <td>2021</td>\n",
       "      <td>2024</td>\n",
       "      <td>M</td>\n",
       "    </tr>\n",
       "    <tr>\n",
       "      <th>370</th>\n",
       "      <td>1471</td>\n",
       "      <td>UC San Diego</td>\n",
       "      <td>2021</td>\n",
       "      <td>2024</td>\n",
       "      <td>M</td>\n",
       "    </tr>\n",
       "    <tr>\n",
       "      <th>371</th>\n",
       "      <td>1472</td>\n",
       "      <td>St Thomas MN</td>\n",
       "      <td>2022</td>\n",
       "      <td>2024</td>\n",
       "      <td>M</td>\n",
       "    </tr>\n",
       "    <tr>\n",
       "      <th>372</th>\n",
       "      <td>1473</td>\n",
       "      <td>Lindenwood</td>\n",
       "      <td>2023</td>\n",
       "      <td>2024</td>\n",
       "      <td>M</td>\n",
       "    </tr>\n",
       "    <tr>\n",
       "      <th>373</th>\n",
       "      <td>1474</td>\n",
       "      <td>Queens NC</td>\n",
       "      <td>2023</td>\n",
       "      <td>2024</td>\n",
       "      <td>M</td>\n",
       "    </tr>\n",
       "    <tr>\n",
       "      <th>374</th>\n",
       "      <td>1475</td>\n",
       "      <td>Southern Indiana</td>\n",
       "      <td>2023</td>\n",
       "      <td>2024</td>\n",
       "      <td>M</td>\n",
       "    </tr>\n",
       "    <tr>\n",
       "      <th>375</th>\n",
       "      <td>1476</td>\n",
       "      <td>Stonehill</td>\n",
       "      <td>2023</td>\n",
       "      <td>2024</td>\n",
       "      <td>M</td>\n",
       "    </tr>\n",
       "    <tr>\n",
       "      <th>376</th>\n",
       "      <td>1477</td>\n",
       "      <td>TX A&amp;M Commerce</td>\n",
       "      <td>2023</td>\n",
       "      <td>2024</td>\n",
       "      <td>M</td>\n",
       "    </tr>\n",
       "    <tr>\n",
       "      <th>377</th>\n",
       "      <td>1478</td>\n",
       "      <td>Le Moyne</td>\n",
       "      <td>2024</td>\n",
       "      <td>2024</td>\n",
       "      <td>M</td>\n",
       "    </tr>\n",
       "  </tbody>\n",
       "</table>\n",
       "</div>"
      ],
      "text/plain": [
       "     TeamID          TeamName  FirstD1Season  LastD1Season Tournament\n",
       "368    1469         Utah Tech           2021          2024          M\n",
       "369    1470       Tarleton St           2021          2024          M\n",
       "370    1471      UC San Diego           2021          2024          M\n",
       "371    1472      St Thomas MN           2022          2024          M\n",
       "372    1473        Lindenwood           2023          2024          M\n",
       "373    1474         Queens NC           2023          2024          M\n",
       "374    1475  Southern Indiana           2023          2024          M\n",
       "375    1476         Stonehill           2023          2024          M\n",
       "376    1477   TX A&M Commerce           2023          2024          M\n",
       "377    1478          Le Moyne           2024          2024          M"
      ]
     },
     "execution_count": 10,
     "metadata": {},
     "output_type": "execute_result"
    }
   ],
   "source": [
    "mteams.tail(10)"
   ]
  },
  {
   "cell_type": "code",
   "execution_count": 11,
   "id": "3da5875e",
   "metadata": {
    "execution": {
     "iopub.execute_input": "2024-03-15T20:01:51.429916Z",
     "iopub.status.busy": "2024-03-15T20:01:51.429493Z",
     "iopub.status.idle": "2024-03-15T20:01:51.440457Z",
     "shell.execute_reply": "2024-03-15T20:01:51.439353Z"
    },
    "papermill": {
     "duration": 0.037389,
     "end_time": "2024-03-15T20:01:51.442839",
     "exception": false,
     "start_time": "2024-03-15T20:01:51.405450",
     "status": "completed"
    },
    "tags": []
   },
   "outputs": [
    {
     "data": {
      "text/html": [
       "<div>\n",
       "<style scoped>\n",
       "    .dataframe tbody tr th:only-of-type {\n",
       "        vertical-align: middle;\n",
       "    }\n",
       "\n",
       "    .dataframe tbody tr th {\n",
       "        vertical-align: top;\n",
       "    }\n",
       "\n",
       "    .dataframe thead th {\n",
       "        text-align: right;\n",
       "    }\n",
       "</style>\n",
       "<table border=\"1\" class=\"dataframe\">\n",
       "  <thead>\n",
       "    <tr style=\"text-align: right;\">\n",
       "      <th></th>\n",
       "      <th>TeamID</th>\n",
       "      <th>TeamName</th>\n",
       "      <th>Tournament</th>\n",
       "    </tr>\n",
       "  </thead>\n",
       "  <tbody>\n",
       "    <tr>\n",
       "      <th>366</th>\n",
       "      <td>3469</td>\n",
       "      <td>Utah Tech</td>\n",
       "      <td>W</td>\n",
       "    </tr>\n",
       "    <tr>\n",
       "      <th>367</th>\n",
       "      <td>3470</td>\n",
       "      <td>Tarleton St</td>\n",
       "      <td>W</td>\n",
       "    </tr>\n",
       "    <tr>\n",
       "      <th>368</th>\n",
       "      <td>3471</td>\n",
       "      <td>UC San Diego</td>\n",
       "      <td>W</td>\n",
       "    </tr>\n",
       "    <tr>\n",
       "      <th>369</th>\n",
       "      <td>3472</td>\n",
       "      <td>St Thomas MN</td>\n",
       "      <td>W</td>\n",
       "    </tr>\n",
       "    <tr>\n",
       "      <th>370</th>\n",
       "      <td>3473</td>\n",
       "      <td>Lindenwood</td>\n",
       "      <td>W</td>\n",
       "    </tr>\n",
       "    <tr>\n",
       "      <th>371</th>\n",
       "      <td>3474</td>\n",
       "      <td>Queens NC</td>\n",
       "      <td>W</td>\n",
       "    </tr>\n",
       "    <tr>\n",
       "      <th>372</th>\n",
       "      <td>3475</td>\n",
       "      <td>Southern Indiana</td>\n",
       "      <td>W</td>\n",
       "    </tr>\n",
       "    <tr>\n",
       "      <th>373</th>\n",
       "      <td>3476</td>\n",
       "      <td>Stonehill</td>\n",
       "      <td>W</td>\n",
       "    </tr>\n",
       "    <tr>\n",
       "      <th>374</th>\n",
       "      <td>3477</td>\n",
       "      <td>TX A&amp;M Commerce</td>\n",
       "      <td>W</td>\n",
       "    </tr>\n",
       "    <tr>\n",
       "      <th>375</th>\n",
       "      <td>3478</td>\n",
       "      <td>Le Moyne</td>\n",
       "      <td>W</td>\n",
       "    </tr>\n",
       "  </tbody>\n",
       "</table>\n",
       "</div>"
      ],
      "text/plain": [
       "     TeamID          TeamName Tournament\n",
       "366    3469         Utah Tech          W\n",
       "367    3470       Tarleton St          W\n",
       "368    3471      UC San Diego          W\n",
       "369    3472      St Thomas MN          W\n",
       "370    3473        Lindenwood          W\n",
       "371    3474         Queens NC          W\n",
       "372    3475  Southern Indiana          W\n",
       "373    3476         Stonehill          W\n",
       "374    3477   TX A&M Commerce          W\n",
       "375    3478          Le Moyne          W"
      ]
     },
     "execution_count": 11,
     "metadata": {},
     "output_type": "execute_result"
    }
   ],
   "source": [
    "wteams.tail(10)"
   ]
  },
  {
   "cell_type": "code",
   "execution_count": null,
   "id": "9ea06fef",
   "metadata": {
    "papermill": {
     "duration": 0.022623,
     "end_time": "2024-03-15T20:01:51.488182",
     "exception": false,
     "start_time": "2024-03-15T20:01:51.465559",
     "status": "completed"
    },
    "tags": []
   },
   "outputs": [],
   "source": []
  },
  {
   "cell_type": "markdown",
   "id": "3e242dbe",
   "metadata": {
    "papermill": {
     "duration": 0.02358,
     "end_time": "2024-03-15T20:01:51.534489",
     "exception": false,
     "start_time": "2024-03-15T20:01:51.510909",
     "status": "completed"
    },
    "tags": []
   },
   "source": [
    "# Additional preprocessing"
   ]
  },
  {
   "cell_type": "code",
   "execution_count": 12,
   "id": "1333e179",
   "metadata": {
    "execution": {
     "iopub.execute_input": "2024-03-15T20:01:51.582276Z",
     "iopub.status.busy": "2024-03-15T20:01:51.581400Z",
     "iopub.status.idle": "2024-03-15T20:01:51.587861Z",
     "shell.execute_reply": "2024-03-15T20:01:51.587022Z"
    },
    "papermill": {
     "duration": 0.032989,
     "end_time": "2024-03-15T20:01:51.590321",
     "exception": false,
     "start_time": "2024-03-15T20:01:51.557332",
     "status": "completed"
    },
    "tags": []
   },
   "outputs": [],
   "source": [
    "tourney_seeds[\"TeamName\"] = tourney_seeds[\"TeamID\"].map(team_map)\n",
    "tourney_seeds[\"Region\"] = tourney_seeds[\"Seed\"].str[0]"
   ]
  },
  {
   "cell_type": "code",
   "execution_count": 13,
   "id": "0995971a",
   "metadata": {
    "execution": {
     "iopub.execute_input": "2024-03-15T20:01:51.637598Z",
     "iopub.status.busy": "2024-03-15T20:01:51.637240Z",
     "iopub.status.idle": "2024-03-15T20:01:51.643019Z",
     "shell.execute_reply": "2024-03-15T20:01:51.641798Z"
    },
    "papermill": {
     "duration": 0.032228,
     "end_time": "2024-03-15T20:01:51.645227",
     "exception": false,
     "start_time": "2024-03-15T20:01:51.612999",
     "status": "completed"
    },
    "tags": []
   },
   "outputs": [],
   "source": [
    "tourney_seeds[\"SubBracket\"] = tourney_seeds[\"Seed\"].str[0]"
   ]
  },
  {
   "cell_type": "code",
   "execution_count": 14,
   "id": "563428e8",
   "metadata": {
    "execution": {
     "iopub.execute_input": "2024-03-15T20:01:51.692804Z",
     "iopub.status.busy": "2024-03-15T20:01:51.692433Z",
     "iopub.status.idle": "2024-03-15T20:01:51.712628Z",
     "shell.execute_reply": "2024-03-15T20:01:51.711617Z"
    },
    "papermill": {
     "duration": 0.046784,
     "end_time": "2024-03-15T20:01:51.714937",
     "exception": false,
     "start_time": "2024-03-15T20:01:51.668153",
     "status": "completed"
    },
    "tags": []
   },
   "outputs": [
    {
     "data": {
      "text/plain": [
       "Region  SubBracket\n",
       "W       W             32\n",
       "X       X             32\n",
       "Y       Y             32\n",
       "Z       Z             32\n",
       "Name: count, dtype: int64"
      ]
     },
     "execution_count": 14,
     "metadata": {},
     "output_type": "execute_result"
    }
   ],
   "source": [
    "tourney_seeds[[\"Region\", \"SubBracket\"]].value_counts()"
   ]
  },
  {
   "cell_type": "code",
   "execution_count": 15,
   "id": "224458de",
   "metadata": {
    "execution": {
     "iopub.execute_input": "2024-03-15T20:01:51.762331Z",
     "iopub.status.busy": "2024-03-15T20:01:51.761936Z",
     "iopub.status.idle": "2024-03-15T20:01:51.767720Z",
     "shell.execute_reply": "2024-03-15T20:01:51.766649Z"
    },
    "papermill": {
     "duration": 0.032405,
     "end_time": "2024-03-15T20:01:51.769999",
     "exception": false,
     "start_time": "2024-03-15T20:01:51.737594",
     "status": "completed"
    },
    "tags": []
   },
   "outputs": [],
   "source": [
    "tourney_seeds[\"ChalkRank\"] = tourney_seeds[\"Seed\"].str[1:].astype(\"int\")"
   ]
  },
  {
   "cell_type": "markdown",
   "id": "a7f70416",
   "metadata": {
    "papermill": {
     "duration": 0.022675,
     "end_time": "2024-03-15T20:01:51.815467",
     "exception": false,
     "start_time": "2024-03-15T20:01:51.792792",
     "status": "completed"
    },
    "tags": []
   },
   "source": [
    "# Machine Learning Modeling and Feature Engineering"
   ]
  },
  {
   "cell_type": "code",
   "execution_count": 16,
   "id": "c1fa0150",
   "metadata": {
    "execution": {
     "iopub.execute_input": "2024-03-15T20:01:51.863470Z",
     "iopub.status.busy": "2024-03-15T20:01:51.862496Z",
     "iopub.status.idle": "2024-03-15T20:01:51.886977Z",
     "shell.execute_reply": "2024-03-15T20:01:51.886173Z"
    },
    "papermill": {
     "duration": 0.050755,
     "end_time": "2024-03-15T20:01:51.889138",
     "exception": false,
     "start_time": "2024-03-15T20:01:51.838383",
     "status": "completed"
    },
    "tags": []
   },
   "outputs": [
    {
     "data": {
      "text/html": [
       "<div>\n",
       "<style scoped>\n",
       "    .dataframe tbody tr th:only-of-type {\n",
       "        vertical-align: middle;\n",
       "    }\n",
       "\n",
       "    .dataframe tbody tr th {\n",
       "        vertical-align: top;\n",
       "    }\n",
       "\n",
       "    .dataframe thead th {\n",
       "        text-align: right;\n",
       "    }\n",
       "</style>\n",
       "<table border=\"1\" class=\"dataframe\">\n",
       "  <thead>\n",
       "    <tr style=\"text-align: right;\">\n",
       "      <th></th>\n",
       "      <th>Season</th>\n",
       "      <th>Seed</th>\n",
       "      <th>TeamID</th>\n",
       "    </tr>\n",
       "  </thead>\n",
       "  <tbody>\n",
       "    <tr>\n",
       "      <th>0</th>\n",
       "      <td>1985</td>\n",
       "      <td>W01</td>\n",
       "      <td>1207</td>\n",
       "    </tr>\n",
       "    <tr>\n",
       "      <th>1</th>\n",
       "      <td>1985</td>\n",
       "      <td>W02</td>\n",
       "      <td>1210</td>\n",
       "    </tr>\n",
       "    <tr>\n",
       "      <th>2</th>\n",
       "      <td>1985</td>\n",
       "      <td>W03</td>\n",
       "      <td>1228</td>\n",
       "    </tr>\n",
       "    <tr>\n",
       "      <th>3</th>\n",
       "      <td>1985</td>\n",
       "      <td>W04</td>\n",
       "      <td>1260</td>\n",
       "    </tr>\n",
       "    <tr>\n",
       "      <th>4</th>\n",
       "      <td>1985</td>\n",
       "      <td>W05</td>\n",
       "      <td>1374</td>\n",
       "    </tr>\n",
       "    <tr>\n",
       "      <th>...</th>\n",
       "      <td>...</td>\n",
       "      <td>...</td>\n",
       "      <td>...</td>\n",
       "    </tr>\n",
       "    <tr>\n",
       "      <th>4093</th>\n",
       "      <td>2023</td>\n",
       "      <td>Z12</td>\n",
       "      <td>3405</td>\n",
       "    </tr>\n",
       "    <tr>\n",
       "      <th>4094</th>\n",
       "      <td>2023</td>\n",
       "      <td>Z13</td>\n",
       "      <td>3387</td>\n",
       "    </tr>\n",
       "    <tr>\n",
       "      <th>4095</th>\n",
       "      <td>2023</td>\n",
       "      <td>Z14</td>\n",
       "      <td>3241</td>\n",
       "    </tr>\n",
       "    <tr>\n",
       "      <th>4096</th>\n",
       "      <td>2023</td>\n",
       "      <td>Z15</td>\n",
       "      <td>3436</td>\n",
       "    </tr>\n",
       "    <tr>\n",
       "      <th>4097</th>\n",
       "      <td>2023</td>\n",
       "      <td>Z16</td>\n",
       "      <td>3151</td>\n",
       "    </tr>\n",
       "  </tbody>\n",
       "</table>\n",
       "<p>4098 rows × 3 columns</p>\n",
       "</div>"
      ],
      "text/plain": [
       "      Season Seed  TeamID\n",
       "0       1985  W01    1207\n",
       "1       1985  W02    1210\n",
       "2       1985  W03    1228\n",
       "3       1985  W04    1260\n",
       "4       1985  W05    1374\n",
       "...      ...  ...     ...\n",
       "4093    2023  Z12    3405\n",
       "4094    2023  Z13    3387\n",
       "4095    2023  Z14    3241\n",
       "4096    2023  Z15    3436\n",
       "4097    2023  Z16    3151\n",
       "\n",
       "[4098 rows x 3 columns]"
      ]
     },
     "execution_count": 16,
     "metadata": {},
     "output_type": "execute_result"
    }
   ],
   "source": [
    "df_seeds = pd.concat([\n",
    "    pd.read_csv(DATA_PATH + \"MNCAATourneySeeds.csv\"),\n",
    "    pd.read_csv(DATA_PATH + \"WNCAATourneySeeds.csv\"),\n",
    "    ], ignore_index = True)\n",
    "\n",
    "df_seeds"
   ]
  },
  {
   "cell_type": "code",
   "execution_count": 17,
   "id": "eafd5eac",
   "metadata": {
    "execution": {
     "iopub.execute_input": "2024-03-15T20:01:51.996623Z",
     "iopub.status.busy": "2024-03-15T20:01:51.995786Z",
     "iopub.status.idle": "2024-03-15T20:01:52.413328Z",
     "shell.execute_reply": "2024-03-15T20:01:52.412159Z"
    },
    "papermill": {
     "duration": 0.444417,
     "end_time": "2024-03-15T20:01:52.415958",
     "exception": false,
     "start_time": "2024-03-15T20:01:51.971541",
     "status": "completed"
    },
    "tags": []
   },
   "outputs": [
    {
     "data": {
      "text/html": [
       "<div>\n",
       "<style scoped>\n",
       "    .dataframe tbody tr th:only-of-type {\n",
       "        vertical-align: middle;\n",
       "    }\n",
       "\n",
       "    .dataframe tbody tr th {\n",
       "        vertical-align: top;\n",
       "    }\n",
       "\n",
       "    .dataframe thead th {\n",
       "        text-align: right;\n",
       "    }\n",
       "</style>\n",
       "<table border=\"1\" class=\"dataframe\">\n",
       "  <thead>\n",
       "    <tr style=\"text-align: right;\">\n",
       "      <th></th>\n",
       "      <th>Season</th>\n",
       "      <th>DayNum</th>\n",
       "      <th>WTeamID</th>\n",
       "      <th>WScore</th>\n",
       "      <th>LTeamID</th>\n",
       "      <th>LScore</th>\n",
       "    </tr>\n",
       "  </thead>\n",
       "  <tbody>\n",
       "    <tr>\n",
       "      <th>0</th>\n",
       "      <td>1985</td>\n",
       "      <td>20</td>\n",
       "      <td>1228</td>\n",
       "      <td>81</td>\n",
       "      <td>1328</td>\n",
       "      <td>64</td>\n",
       "    </tr>\n",
       "    <tr>\n",
       "      <th>1</th>\n",
       "      <td>1985</td>\n",
       "      <td>25</td>\n",
       "      <td>1106</td>\n",
       "      <td>77</td>\n",
       "      <td>1354</td>\n",
       "      <td>70</td>\n",
       "    </tr>\n",
       "    <tr>\n",
       "      <th>2</th>\n",
       "      <td>1985</td>\n",
       "      <td>25</td>\n",
       "      <td>1112</td>\n",
       "      <td>63</td>\n",
       "      <td>1223</td>\n",
       "      <td>56</td>\n",
       "    </tr>\n",
       "    <tr>\n",
       "      <th>3</th>\n",
       "      <td>1985</td>\n",
       "      <td>25</td>\n",
       "      <td>1165</td>\n",
       "      <td>70</td>\n",
       "      <td>1432</td>\n",
       "      <td>54</td>\n",
       "    </tr>\n",
       "    <tr>\n",
       "      <th>4</th>\n",
       "      <td>1985</td>\n",
       "      <td>25</td>\n",
       "      <td>1192</td>\n",
       "      <td>86</td>\n",
       "      <td>1447</td>\n",
       "      <td>74</td>\n",
       "    </tr>\n",
       "    <tr>\n",
       "      <th>...</th>\n",
       "      <td>...</td>\n",
       "      <td>...</td>\n",
       "      <td>...</td>\n",
       "      <td>...</td>\n",
       "      <td>...</td>\n",
       "      <td>...</td>\n",
       "    </tr>\n",
       "    <tr>\n",
       "      <th>317442</th>\n",
       "      <td>2024</td>\n",
       "      <td>114</td>\n",
       "      <td>3409</td>\n",
       "      <td>76</td>\n",
       "      <td>3396</td>\n",
       "      <td>67</td>\n",
       "    </tr>\n",
       "    <tr>\n",
       "      <th>317443</th>\n",
       "      <td>2024</td>\n",
       "      <td>114</td>\n",
       "      <td>3424</td>\n",
       "      <td>63</td>\n",
       "      <td>3129</td>\n",
       "      <td>57</td>\n",
       "    </tr>\n",
       "    <tr>\n",
       "      <th>317444</th>\n",
       "      <td>2024</td>\n",
       "      <td>114</td>\n",
       "      <td>3433</td>\n",
       "      <td>69</td>\n",
       "      <td>3348</td>\n",
       "      <td>59</td>\n",
       "    </tr>\n",
       "    <tr>\n",
       "      <th>317445</th>\n",
       "      <td>2024</td>\n",
       "      <td>114</td>\n",
       "      <td>3453</td>\n",
       "      <td>70</td>\n",
       "      <td>3236</td>\n",
       "      <td>61</td>\n",
       "    </tr>\n",
       "    <tr>\n",
       "      <th>317446</th>\n",
       "      <td>2024</td>\n",
       "      <td>114</td>\n",
       "      <td>3461</td>\n",
       "      <td>88</td>\n",
       "      <td>3363</td>\n",
       "      <td>73</td>\n",
       "    </tr>\n",
       "  </tbody>\n",
       "</table>\n",
       "<p>317447 rows × 6 columns</p>\n",
       "</div>"
      ],
      "text/plain": [
       "        Season  DayNum  WTeamID  WScore  LTeamID  LScore\n",
       "0         1985      20     1228      81     1328      64\n",
       "1         1985      25     1106      77     1354      70\n",
       "2         1985      25     1112      63     1223      56\n",
       "3         1985      25     1165      70     1432      54\n",
       "4         1985      25     1192      86     1447      74\n",
       "...        ...     ...      ...     ...      ...     ...\n",
       "317442    2024     114     3409      76     3396      67\n",
       "317443    2024     114     3424      63     3129      57\n",
       "317444    2024     114     3433      69     3348      59\n",
       "317445    2024     114     3453      70     3236      61\n",
       "317446    2024     114     3461      88     3363      73\n",
       "\n",
       "[317447 rows x 6 columns]"
      ]
     },
     "execution_count": 17,
     "metadata": {},
     "output_type": "execute_result"
    }
   ],
   "source": [
    "df_season_results = pd.concat([\n",
    "    pd.read_csv(DATA_PATH + \"MRegularSeasonCompactResults.csv\"),\n",
    "    pd.read_csv(DATA_PATH + \"WRegularSeasonCompactResults.csv\"),\n",
    "], ignore_index = True)\n",
    "\n",
    "df_season_results.drop([\"WLoc\", \"NumOT\"], axis=1, inplace=True)\n",
    "\n",
    "df_season_results"
   ]
  },
  {
   "cell_type": "code",
   "execution_count": 18,
   "id": "4ac5c4d8",
   "metadata": {
    "execution": {
     "iopub.execute_input": "2024-03-15T20:01:52.466078Z",
     "iopub.status.busy": "2024-03-15T20:01:52.465658Z",
     "iopub.status.idle": "2024-03-15T20:01:52.482392Z",
     "shell.execute_reply": "2024-03-15T20:01:52.481292Z"
    },
    "papermill": {
     "duration": 0.044073,
     "end_time": "2024-03-15T20:01:52.484643",
     "exception": false,
     "start_time": "2024-03-15T20:01:52.440570",
     "status": "completed"
    },
    "tags": []
   },
   "outputs": [
    {
     "data": {
      "text/html": [
       "<div>\n",
       "<style scoped>\n",
       "    .dataframe tbody tr th:only-of-type {\n",
       "        vertical-align: middle;\n",
       "    }\n",
       "\n",
       "    .dataframe tbody tr th {\n",
       "        vertical-align: top;\n",
       "    }\n",
       "\n",
       "    .dataframe thead th {\n",
       "        text-align: right;\n",
       "    }\n",
       "</style>\n",
       "<table border=\"1\" class=\"dataframe\">\n",
       "  <thead>\n",
       "    <tr style=\"text-align: right;\">\n",
       "      <th></th>\n",
       "      <th>Season</th>\n",
       "      <th>DayNum</th>\n",
       "      <th>WTeamID</th>\n",
       "      <th>WScore</th>\n",
       "      <th>LTeamID</th>\n",
       "      <th>LScore</th>\n",
       "    </tr>\n",
       "  </thead>\n",
       "  <tbody>\n",
       "    <tr>\n",
       "      <th>181682</th>\n",
       "      <td>2024</td>\n",
       "      <td>0</td>\n",
       "      <td>1101</td>\n",
       "      <td>64</td>\n",
       "      <td>1329</td>\n",
       "      <td>59</td>\n",
       "    </tr>\n",
       "    <tr>\n",
       "      <th>181683</th>\n",
       "      <td>2024</td>\n",
       "      <td>0</td>\n",
       "      <td>1103</td>\n",
       "      <td>81</td>\n",
       "      <td>1355</td>\n",
       "      <td>75</td>\n",
       "    </tr>\n",
       "    <tr>\n",
       "      <th>181684</th>\n",
       "      <td>2024</td>\n",
       "      <td>0</td>\n",
       "      <td>1104</td>\n",
       "      <td>105</td>\n",
       "      <td>1287</td>\n",
       "      <td>73</td>\n",
       "    </tr>\n",
       "    <tr>\n",
       "      <th>181685</th>\n",
       "      <td>2024</td>\n",
       "      <td>0</td>\n",
       "      <td>1112</td>\n",
       "      <td>122</td>\n",
       "      <td>1288</td>\n",
       "      <td>59</td>\n",
       "    </tr>\n",
       "    <tr>\n",
       "      <th>181686</th>\n",
       "      <td>2024</td>\n",
       "      <td>0</td>\n",
       "      <td>1114</td>\n",
       "      <td>71</td>\n",
       "      <td>1402</td>\n",
       "      <td>66</td>\n",
       "    </tr>\n",
       "    <tr>\n",
       "      <th>...</th>\n",
       "      <td>...</td>\n",
       "      <td>...</td>\n",
       "      <td>...</td>\n",
       "      <td>...</td>\n",
       "      <td>...</td>\n",
       "      <td>...</td>\n",
       "    </tr>\n",
       "    <tr>\n",
       "      <th>317442</th>\n",
       "      <td>2024</td>\n",
       "      <td>114</td>\n",
       "      <td>3409</td>\n",
       "      <td>76</td>\n",
       "      <td>3396</td>\n",
       "      <td>67</td>\n",
       "    </tr>\n",
       "    <tr>\n",
       "      <th>317443</th>\n",
       "      <td>2024</td>\n",
       "      <td>114</td>\n",
       "      <td>3424</td>\n",
       "      <td>63</td>\n",
       "      <td>3129</td>\n",
       "      <td>57</td>\n",
       "    </tr>\n",
       "    <tr>\n",
       "      <th>317444</th>\n",
       "      <td>2024</td>\n",
       "      <td>114</td>\n",
       "      <td>3433</td>\n",
       "      <td>69</td>\n",
       "      <td>3348</td>\n",
       "      <td>59</td>\n",
       "    </tr>\n",
       "    <tr>\n",
       "      <th>317445</th>\n",
       "      <td>2024</td>\n",
       "      <td>114</td>\n",
       "      <td>3453</td>\n",
       "      <td>70</td>\n",
       "      <td>3236</td>\n",
       "      <td>61</td>\n",
       "    </tr>\n",
       "    <tr>\n",
       "      <th>317446</th>\n",
       "      <td>2024</td>\n",
       "      <td>114</td>\n",
       "      <td>3461</td>\n",
       "      <td>88</td>\n",
       "      <td>3363</td>\n",
       "      <td>73</td>\n",
       "    </tr>\n",
       "  </tbody>\n",
       "</table>\n",
       "<p>9592 rows × 6 columns</p>\n",
       "</div>"
      ],
      "text/plain": [
       "        Season  DayNum  WTeamID  WScore  LTeamID  LScore\n",
       "181682    2024       0     1101      64     1329      59\n",
       "181683    2024       0     1103      81     1355      75\n",
       "181684    2024       0     1104     105     1287      73\n",
       "181685    2024       0     1112     122     1288      59\n",
       "181686    2024       0     1114      71     1402      66\n",
       "...        ...     ...      ...     ...      ...     ...\n",
       "317442    2024     114     3409      76     3396      67\n",
       "317443    2024     114     3424      63     3129      57\n",
       "317444    2024     114     3433      69     3348      59\n",
       "317445    2024     114     3453      70     3236      61\n",
       "317446    2024     114     3461      88     3363      73\n",
       "\n",
       "[9592 rows x 6 columns]"
      ]
     },
     "execution_count": 18,
     "metadata": {},
     "output_type": "execute_result"
    }
   ],
   "source": [
    "df_season_results.query(\"Season == 2024\")"
   ]
  },
  {
   "cell_type": "code",
   "execution_count": 19,
   "id": "4555ea47",
   "metadata": {
    "execution": {
     "iopub.execute_input": "2024-03-15T20:01:52.536959Z",
     "iopub.status.busy": "2024-03-15T20:01:52.536313Z",
     "iopub.status.idle": "2024-03-15T20:01:52.553209Z",
     "shell.execute_reply": "2024-03-15T20:01:52.552090Z"
    },
    "papermill": {
     "duration": 0.046828,
     "end_time": "2024-03-15T20:01:52.555678",
     "exception": false,
     "start_time": "2024-03-15T20:01:52.508850",
     "status": "completed"
    },
    "tags": []
   },
   "outputs": [
    {
     "data": {
      "text/html": [
       "<div>\n",
       "<style scoped>\n",
       "    .dataframe tbody tr th:only-of-type {\n",
       "        vertical-align: middle;\n",
       "    }\n",
       "\n",
       "    .dataframe tbody tr th {\n",
       "        vertical-align: top;\n",
       "    }\n",
       "\n",
       "    .dataframe thead th {\n",
       "        text-align: right;\n",
       "    }\n",
       "</style>\n",
       "<table border=\"1\" class=\"dataframe\">\n",
       "  <thead>\n",
       "    <tr style=\"text-align: right;\">\n",
       "      <th></th>\n",
       "      <th>TeamID</th>\n",
       "      <th>TeamName</th>\n",
       "      <th>FirstD1Season</th>\n",
       "      <th>LastD1Season</th>\n",
       "      <th>Tournament</th>\n",
       "    </tr>\n",
       "  </thead>\n",
       "  <tbody>\n",
       "    <tr>\n",
       "      <th>0</th>\n",
       "      <td>1101</td>\n",
       "      <td>Abilene Chr</td>\n",
       "      <td>2014.0</td>\n",
       "      <td>2024.0</td>\n",
       "      <td>M</td>\n",
       "    </tr>\n",
       "    <tr>\n",
       "      <th>1</th>\n",
       "      <td>1102</td>\n",
       "      <td>Air Force</td>\n",
       "      <td>1985.0</td>\n",
       "      <td>2024.0</td>\n",
       "      <td>M</td>\n",
       "    </tr>\n",
       "    <tr>\n",
       "      <th>2</th>\n",
       "      <td>1103</td>\n",
       "      <td>Akron</td>\n",
       "      <td>1985.0</td>\n",
       "      <td>2024.0</td>\n",
       "      <td>M</td>\n",
       "    </tr>\n",
       "    <tr>\n",
       "      <th>3</th>\n",
       "      <td>1104</td>\n",
       "      <td>Alabama</td>\n",
       "      <td>1985.0</td>\n",
       "      <td>2024.0</td>\n",
       "      <td>M</td>\n",
       "    </tr>\n",
       "    <tr>\n",
       "      <th>4</th>\n",
       "      <td>1105</td>\n",
       "      <td>Alabama A&amp;M</td>\n",
       "      <td>2000.0</td>\n",
       "      <td>2024.0</td>\n",
       "      <td>M</td>\n",
       "    </tr>\n",
       "    <tr>\n",
       "      <th>...</th>\n",
       "      <td>...</td>\n",
       "      <td>...</td>\n",
       "      <td>...</td>\n",
       "      <td>...</td>\n",
       "      <td>...</td>\n",
       "    </tr>\n",
       "    <tr>\n",
       "      <th>371</th>\n",
       "      <td>3474</td>\n",
       "      <td>Queens NC</td>\n",
       "      <td>NaN</td>\n",
       "      <td>NaN</td>\n",
       "      <td>W</td>\n",
       "    </tr>\n",
       "    <tr>\n",
       "      <th>372</th>\n",
       "      <td>3475</td>\n",
       "      <td>Southern Indiana</td>\n",
       "      <td>NaN</td>\n",
       "      <td>NaN</td>\n",
       "      <td>W</td>\n",
       "    </tr>\n",
       "    <tr>\n",
       "      <th>373</th>\n",
       "      <td>3476</td>\n",
       "      <td>Stonehill</td>\n",
       "      <td>NaN</td>\n",
       "      <td>NaN</td>\n",
       "      <td>W</td>\n",
       "    </tr>\n",
       "    <tr>\n",
       "      <th>374</th>\n",
       "      <td>3477</td>\n",
       "      <td>TX A&amp;M Commerce</td>\n",
       "      <td>NaN</td>\n",
       "      <td>NaN</td>\n",
       "      <td>W</td>\n",
       "    </tr>\n",
       "    <tr>\n",
       "      <th>375</th>\n",
       "      <td>3478</td>\n",
       "      <td>Le Moyne</td>\n",
       "      <td>NaN</td>\n",
       "      <td>NaN</td>\n",
       "      <td>W</td>\n",
       "    </tr>\n",
       "  </tbody>\n",
       "</table>\n",
       "<p>754 rows × 5 columns</p>\n",
       "</div>"
      ],
      "text/plain": [
       "     TeamID          TeamName  FirstD1Season  LastD1Season Tournament\n",
       "0      1101       Abilene Chr         2014.0        2024.0          M\n",
       "1      1102         Air Force         1985.0        2024.0          M\n",
       "2      1103             Akron         1985.0        2024.0          M\n",
       "3      1104           Alabama         1985.0        2024.0          M\n",
       "4      1105       Alabama A&M         2000.0        2024.0          M\n",
       "..      ...               ...            ...           ...        ...\n",
       "371    3474         Queens NC            NaN           NaN          W\n",
       "372    3475  Southern Indiana            NaN           NaN          W\n",
       "373    3476         Stonehill            NaN           NaN          W\n",
       "374    3477   TX A&M Commerce            NaN           NaN          W\n",
       "375    3478          Le Moyne            NaN           NaN          W\n",
       "\n",
       "[754 rows x 5 columns]"
      ]
     },
     "execution_count": 19,
     "metadata": {},
     "output_type": "execute_result"
    }
   ],
   "source": [
    "teams"
   ]
  },
  {
   "cell_type": "code",
   "execution_count": 20,
   "id": "8cd81e67",
   "metadata": {
    "execution": {
     "iopub.execute_input": "2024-03-15T20:01:52.608522Z",
     "iopub.status.busy": "2024-03-15T20:01:52.607315Z",
     "iopub.status.idle": "2024-03-15T20:01:52.621096Z",
     "shell.execute_reply": "2024-03-15T20:01:52.620042Z"
    },
    "papermill": {
     "duration": 0.043257,
     "end_time": "2024-03-15T20:01:52.623581",
     "exception": false,
     "start_time": "2024-03-15T20:01:52.580324",
     "status": "completed"
    },
    "tags": []
   },
   "outputs": [
    {
     "data": {
      "text/html": [
       "<div>\n",
       "<style scoped>\n",
       "    .dataframe tbody tr th:only-of-type {\n",
       "        vertical-align: middle;\n",
       "    }\n",
       "\n",
       "    .dataframe tbody tr th {\n",
       "        vertical-align: top;\n",
       "    }\n",
       "\n",
       "    .dataframe thead th {\n",
       "        text-align: right;\n",
       "    }\n",
       "</style>\n",
       "<table border=\"1\" class=\"dataframe\">\n",
       "  <thead>\n",
       "    <tr style=\"text-align: right;\">\n",
       "      <th></th>\n",
       "      <th>TeamID</th>\n",
       "      <th>TeamName</th>\n",
       "      <th>FirstD1Season</th>\n",
       "      <th>LastD1Season</th>\n",
       "      <th>Tournament</th>\n",
       "    </tr>\n",
       "  </thead>\n",
       "  <tbody>\n",
       "    <tr>\n",
       "      <th>338</th>\n",
       "      <td>1439</td>\n",
       "      <td>Virginia Tech</td>\n",
       "      <td>1985.0</td>\n",
       "      <td>2024.0</td>\n",
       "      <td>M</td>\n",
       "    </tr>\n",
       "    <tr>\n",
       "      <th>337</th>\n",
       "      <td>3439</td>\n",
       "      <td>Virginia Tech</td>\n",
       "      <td>NaN</td>\n",
       "      <td>NaN</td>\n",
       "      <td>W</td>\n",
       "    </tr>\n",
       "  </tbody>\n",
       "</table>\n",
       "</div>"
      ],
      "text/plain": [
       "     TeamID       TeamName  FirstD1Season  LastD1Season Tournament\n",
       "338    1439  Virginia Tech         1985.0        2024.0          M\n",
       "337    3439  Virginia Tech            NaN           NaN          W"
      ]
     },
     "execution_count": 20,
     "metadata": {},
     "output_type": "execute_result"
    }
   ],
   "source": [
    "teams.loc[teams[\"TeamName\"] == \"Virginia Tech\"]"
   ]
  },
  {
   "cell_type": "code",
   "execution_count": 21,
   "id": "cbd3ecef",
   "metadata": {
    "execution": {
     "iopub.execute_input": "2024-03-15T20:01:52.675286Z",
     "iopub.status.busy": "2024-03-15T20:01:52.674856Z",
     "iopub.status.idle": "2024-03-15T20:01:52.687076Z",
     "shell.execute_reply": "2024-03-15T20:01:52.686221Z"
    },
    "papermill": {
     "duration": 0.040973,
     "end_time": "2024-03-15T20:01:52.689461",
     "exception": false,
     "start_time": "2024-03-15T20:01:52.648488",
     "status": "completed"
    },
    "tags": []
   },
   "outputs": [
    {
     "data": {
      "text/plain": [
       "(23, 6)"
      ]
     },
     "execution_count": 21,
     "metadata": {},
     "output_type": "execute_result"
    }
   ],
   "source": [
    "df_season_results.query(\"Season == 2024\") \\\n",
    ".query(\"WTeamID == 3439\").shape"
   ]
  },
  {
   "cell_type": "code",
   "execution_count": 22,
   "id": "b05e70ac",
   "metadata": {
    "execution": {
     "iopub.execute_input": "2024-03-15T20:01:52.741722Z",
     "iopub.status.busy": "2024-03-15T20:01:52.740648Z",
     "iopub.status.idle": "2024-03-15T20:01:52.758169Z",
     "shell.execute_reply": "2024-03-15T20:01:52.757035Z"
    },
    "papermill": {
     "duration": 0.045689,
     "end_time": "2024-03-15T20:01:52.760681",
     "exception": false,
     "start_time": "2024-03-15T20:01:52.714992",
     "status": "completed"
    },
    "tags": []
   },
   "outputs": [
    {
     "data": {
      "text/html": [
       "<div>\n",
       "<style scoped>\n",
       "    .dataframe tbody tr th:only-of-type {\n",
       "        vertical-align: middle;\n",
       "    }\n",
       "\n",
       "    .dataframe tbody tr th {\n",
       "        vertical-align: top;\n",
       "    }\n",
       "\n",
       "    .dataframe thead th {\n",
       "        text-align: right;\n",
       "    }\n",
       "</style>\n",
       "<table border=\"1\" class=\"dataframe\">\n",
       "  <thead>\n",
       "    <tr style=\"text-align: right;\">\n",
       "      <th></th>\n",
       "      <th>Season</th>\n",
       "      <th>DayNum</th>\n",
       "      <th>WTeamID</th>\n",
       "      <th>WScore</th>\n",
       "      <th>LTeamID</th>\n",
       "      <th>LScore</th>\n",
       "    </tr>\n",
       "  </thead>\n",
       "  <tbody>\n",
       "    <tr>\n",
       "      <th>312889</th>\n",
       "      <td>2024</td>\n",
       "      <td>3</td>\n",
       "      <td>3234</td>\n",
       "      <td>80</td>\n",
       "      <td>3439</td>\n",
       "      <td>76</td>\n",
       "    </tr>\n",
       "    <tr>\n",
       "      <th>313823</th>\n",
       "      <td>2024</td>\n",
       "      <td>24</td>\n",
       "      <td>3261</td>\n",
       "      <td>82</td>\n",
       "      <td>3439</td>\n",
       "      <td>64</td>\n",
       "    </tr>\n",
       "    <tr>\n",
       "      <th>315406</th>\n",
       "      <td>2024</td>\n",
       "      <td>69</td>\n",
       "      <td>3199</td>\n",
       "      <td>89</td>\n",
       "      <td>3439</td>\n",
       "      <td>81</td>\n",
       "    </tr>\n",
       "    <tr>\n",
       "      <th>315510</th>\n",
       "      <td>2024</td>\n",
       "      <td>73</td>\n",
       "      <td>3181</td>\n",
       "      <td>63</td>\n",
       "      <td>3439</td>\n",
       "      <td>46</td>\n",
       "    </tr>\n",
       "  </tbody>\n",
       "</table>\n",
       "</div>"
      ],
      "text/plain": [
       "        Season  DayNum  WTeamID  WScore  LTeamID  LScore\n",
       "312889    2024       3     3234      80     3439      76\n",
       "313823    2024      24     3261      82     3439      64\n",
       "315406    2024      69     3199      89     3439      81\n",
       "315510    2024      73     3181      63     3439      46"
      ]
     },
     "execution_count": 22,
     "metadata": {},
     "output_type": "execute_result"
    }
   ],
   "source": [
    "df_season_results.query(\"Season == 2024\") \\\n",
    ".query(\"LTeamID == 3439\")"
   ]
  },
  {
   "cell_type": "code",
   "execution_count": 23,
   "id": "8c5a7f00",
   "metadata": {
    "execution": {
     "iopub.execute_input": "2024-03-15T20:01:52.812528Z",
     "iopub.status.busy": "2024-03-15T20:01:52.812158Z",
     "iopub.status.idle": "2024-03-15T20:01:52.824796Z",
     "shell.execute_reply": "2024-03-15T20:01:52.823753Z"
    },
    "papermill": {
     "duration": 0.041644,
     "end_time": "2024-03-15T20:01:52.827546",
     "exception": false,
     "start_time": "2024-03-15T20:01:52.785902",
     "status": "completed"
    },
    "tags": []
   },
   "outputs": [
    {
     "data": {
      "text/html": [
       "<div>\n",
       "<style scoped>\n",
       "    .dataframe tbody tr th:only-of-type {\n",
       "        vertical-align: middle;\n",
       "    }\n",
       "\n",
       "    .dataframe tbody tr th {\n",
       "        vertical-align: top;\n",
       "    }\n",
       "\n",
       "    .dataframe thead th {\n",
       "        text-align: right;\n",
       "    }\n",
       "</style>\n",
       "<table border=\"1\" class=\"dataframe\">\n",
       "  <thead>\n",
       "    <tr style=\"text-align: right;\">\n",
       "      <th></th>\n",
       "      <th>Season</th>\n",
       "      <th>DayNum</th>\n",
       "      <th>WTeamID</th>\n",
       "      <th>WScore</th>\n",
       "      <th>LTeamID</th>\n",
       "      <th>LScore</th>\n",
       "    </tr>\n",
       "  </thead>\n",
       "  <tbody>\n",
       "    <tr>\n",
       "      <th>0</th>\n",
       "      <td>1985</td>\n",
       "      <td>20</td>\n",
       "      <td>1228</td>\n",
       "      <td>81</td>\n",
       "      <td>1328</td>\n",
       "      <td>64</td>\n",
       "    </tr>\n",
       "    <tr>\n",
       "      <th>1</th>\n",
       "      <td>1985</td>\n",
       "      <td>25</td>\n",
       "      <td>1106</td>\n",
       "      <td>77</td>\n",
       "      <td>1354</td>\n",
       "      <td>70</td>\n",
       "    </tr>\n",
       "    <tr>\n",
       "      <th>2</th>\n",
       "      <td>1985</td>\n",
       "      <td>25</td>\n",
       "      <td>1112</td>\n",
       "      <td>63</td>\n",
       "      <td>1223</td>\n",
       "      <td>56</td>\n",
       "    </tr>\n",
       "    <tr>\n",
       "      <th>3</th>\n",
       "      <td>1985</td>\n",
       "      <td>25</td>\n",
       "      <td>1165</td>\n",
       "      <td>70</td>\n",
       "      <td>1432</td>\n",
       "      <td>54</td>\n",
       "    </tr>\n",
       "    <tr>\n",
       "      <th>4</th>\n",
       "      <td>1985</td>\n",
       "      <td>25</td>\n",
       "      <td>1192</td>\n",
       "      <td>86</td>\n",
       "      <td>1447</td>\n",
       "      <td>74</td>\n",
       "    </tr>\n",
       "    <tr>\n",
       "      <th>...</th>\n",
       "      <td>...</td>\n",
       "      <td>...</td>\n",
       "      <td>...</td>\n",
       "      <td>...</td>\n",
       "      <td>...</td>\n",
       "      <td>...</td>\n",
       "    </tr>\n",
       "    <tr>\n",
       "      <th>317442</th>\n",
       "      <td>2024</td>\n",
       "      <td>114</td>\n",
       "      <td>3409</td>\n",
       "      <td>76</td>\n",
       "      <td>3396</td>\n",
       "      <td>67</td>\n",
       "    </tr>\n",
       "    <tr>\n",
       "      <th>317443</th>\n",
       "      <td>2024</td>\n",
       "      <td>114</td>\n",
       "      <td>3424</td>\n",
       "      <td>63</td>\n",
       "      <td>3129</td>\n",
       "      <td>57</td>\n",
       "    </tr>\n",
       "    <tr>\n",
       "      <th>317444</th>\n",
       "      <td>2024</td>\n",
       "      <td>114</td>\n",
       "      <td>3433</td>\n",
       "      <td>69</td>\n",
       "      <td>3348</td>\n",
       "      <td>59</td>\n",
       "    </tr>\n",
       "    <tr>\n",
       "      <th>317445</th>\n",
       "      <td>2024</td>\n",
       "      <td>114</td>\n",
       "      <td>3453</td>\n",
       "      <td>70</td>\n",
       "      <td>3236</td>\n",
       "      <td>61</td>\n",
       "    </tr>\n",
       "    <tr>\n",
       "      <th>317446</th>\n",
       "      <td>2024</td>\n",
       "      <td>114</td>\n",
       "      <td>3461</td>\n",
       "      <td>88</td>\n",
       "      <td>3363</td>\n",
       "      <td>73</td>\n",
       "    </tr>\n",
       "  </tbody>\n",
       "</table>\n",
       "<p>317447 rows × 6 columns</p>\n",
       "</div>"
      ],
      "text/plain": [
       "        Season  DayNum  WTeamID  WScore  LTeamID  LScore\n",
       "0         1985      20     1228      81     1328      64\n",
       "1         1985      25     1106      77     1354      70\n",
       "2         1985      25     1112      63     1223      56\n",
       "3         1985      25     1165      70     1432      54\n",
       "4         1985      25     1192      86     1447      74\n",
       "...        ...     ...      ...     ...      ...     ...\n",
       "317442    2024     114     3409      76     3396      67\n",
       "317443    2024     114     3424      63     3129      57\n",
       "317444    2024     114     3433      69     3348      59\n",
       "317445    2024     114     3453      70     3236      61\n",
       "317446    2024     114     3461      88     3363      73\n",
       "\n",
       "[317447 rows x 6 columns]"
      ]
     },
     "execution_count": 23,
     "metadata": {},
     "output_type": "execute_result"
    }
   ],
   "source": [
    "df_season_results"
   ]
  },
  {
   "cell_type": "code",
   "execution_count": 24,
   "id": "20f1423f",
   "metadata": {
    "execution": {
     "iopub.execute_input": "2024-03-15T20:01:52.879744Z",
     "iopub.status.busy": "2024-03-15T20:01:52.879365Z",
     "iopub.status.idle": "2024-03-15T20:01:52.885811Z",
     "shell.execute_reply": "2024-03-15T20:01:52.884925Z"
    },
    "papermill": {
     "duration": 0.035294,
     "end_time": "2024-03-15T20:01:52.888149",
     "exception": false,
     "start_time": "2024-03-15T20:01:52.852855",
     "status": "completed"
    },
    "tags": []
   },
   "outputs": [],
   "source": [
    "df_season_results[\"ScoreDiff\"] = df_season_results[\"WScore\"] - df_season_results[\"LScore\"]"
   ]
  },
  {
   "cell_type": "code",
   "execution_count": 25,
   "id": "8b35cd34",
   "metadata": {
    "execution": {
     "iopub.execute_input": "2024-03-15T20:01:52.940580Z",
     "iopub.status.busy": "2024-03-15T20:01:52.940201Z",
     "iopub.status.idle": "2024-03-15T20:01:53.244585Z",
     "shell.execute_reply": "2024-03-15T20:01:53.243568Z"
    },
    "papermill": {
     "duration": 0.333757,
     "end_time": "2024-03-15T20:01:53.247204",
     "exception": false,
     "start_time": "2024-03-15T20:01:52.913447",
     "status": "completed"
    },
    "tags": []
   },
   "outputs": [],
   "source": [
    "df_season_results = pd.concat([\n",
    "    pd.read_csv(DATA_PATH + \"MRegularSeasonCompactResults.csv\").assign(League=\"M\"),\n",
    "    pd.read_csv(DATA_PATH + \"WRegularSeasonCompactResults.csv\").assign(League=\"W\"),\n",
    "], ignore_index = True)\n",
    "\n",
    "df_season_results.drop([\"WLoc\", \"NumOT\"], axis=1, inplace=True)"
   ]
  },
  {
   "cell_type": "code",
   "execution_count": 26,
   "id": "72bd1ab4",
   "metadata": {
    "execution": {
     "iopub.execute_input": "2024-03-15T20:01:53.300176Z",
     "iopub.status.busy": "2024-03-15T20:01:53.299770Z",
     "iopub.status.idle": "2024-03-15T20:01:53.313959Z",
     "shell.execute_reply": "2024-03-15T20:01:53.312798Z"
    },
    "papermill": {
     "duration": 0.043382,
     "end_time": "2024-03-15T20:01:53.316229",
     "exception": false,
     "start_time": "2024-03-15T20:01:53.272847",
     "status": "completed"
    },
    "tags": []
   },
   "outputs": [
    {
     "data": {
      "text/html": [
       "<div>\n",
       "<style scoped>\n",
       "    .dataframe tbody tr th:only-of-type {\n",
       "        vertical-align: middle;\n",
       "    }\n",
       "\n",
       "    .dataframe tbody tr th {\n",
       "        vertical-align: top;\n",
       "    }\n",
       "\n",
       "    .dataframe thead th {\n",
       "        text-align: right;\n",
       "    }\n",
       "</style>\n",
       "<table border=\"1\" class=\"dataframe\">\n",
       "  <thead>\n",
       "    <tr style=\"text-align: right;\">\n",
       "      <th></th>\n",
       "      <th>Season</th>\n",
       "      <th>DayNum</th>\n",
       "      <th>WTeamID</th>\n",
       "      <th>WScore</th>\n",
       "      <th>LTeamID</th>\n",
       "      <th>LScore</th>\n",
       "      <th>League</th>\n",
       "    </tr>\n",
       "  </thead>\n",
       "  <tbody>\n",
       "    <tr>\n",
       "      <th>0</th>\n",
       "      <td>1985</td>\n",
       "      <td>20</td>\n",
       "      <td>1228</td>\n",
       "      <td>81</td>\n",
       "      <td>1328</td>\n",
       "      <td>64</td>\n",
       "      <td>M</td>\n",
       "    </tr>\n",
       "    <tr>\n",
       "      <th>1</th>\n",
       "      <td>1985</td>\n",
       "      <td>25</td>\n",
       "      <td>1106</td>\n",
       "      <td>77</td>\n",
       "      <td>1354</td>\n",
       "      <td>70</td>\n",
       "      <td>M</td>\n",
       "    </tr>\n",
       "    <tr>\n",
       "      <th>2</th>\n",
       "      <td>1985</td>\n",
       "      <td>25</td>\n",
       "      <td>1112</td>\n",
       "      <td>63</td>\n",
       "      <td>1223</td>\n",
       "      <td>56</td>\n",
       "      <td>M</td>\n",
       "    </tr>\n",
       "    <tr>\n",
       "      <th>3</th>\n",
       "      <td>1985</td>\n",
       "      <td>25</td>\n",
       "      <td>1165</td>\n",
       "      <td>70</td>\n",
       "      <td>1432</td>\n",
       "      <td>54</td>\n",
       "      <td>M</td>\n",
       "    </tr>\n",
       "    <tr>\n",
       "      <th>4</th>\n",
       "      <td>1985</td>\n",
       "      <td>25</td>\n",
       "      <td>1192</td>\n",
       "      <td>86</td>\n",
       "      <td>1447</td>\n",
       "      <td>74</td>\n",
       "      <td>M</td>\n",
       "    </tr>\n",
       "    <tr>\n",
       "      <th>...</th>\n",
       "      <td>...</td>\n",
       "      <td>...</td>\n",
       "      <td>...</td>\n",
       "      <td>...</td>\n",
       "      <td>...</td>\n",
       "      <td>...</td>\n",
       "      <td>...</td>\n",
       "    </tr>\n",
       "    <tr>\n",
       "      <th>317442</th>\n",
       "      <td>2024</td>\n",
       "      <td>114</td>\n",
       "      <td>3409</td>\n",
       "      <td>76</td>\n",
       "      <td>3396</td>\n",
       "      <td>67</td>\n",
       "      <td>W</td>\n",
       "    </tr>\n",
       "    <tr>\n",
       "      <th>317443</th>\n",
       "      <td>2024</td>\n",
       "      <td>114</td>\n",
       "      <td>3424</td>\n",
       "      <td>63</td>\n",
       "      <td>3129</td>\n",
       "      <td>57</td>\n",
       "      <td>W</td>\n",
       "    </tr>\n",
       "    <tr>\n",
       "      <th>317444</th>\n",
       "      <td>2024</td>\n",
       "      <td>114</td>\n",
       "      <td>3433</td>\n",
       "      <td>69</td>\n",
       "      <td>3348</td>\n",
       "      <td>59</td>\n",
       "      <td>W</td>\n",
       "    </tr>\n",
       "    <tr>\n",
       "      <th>317445</th>\n",
       "      <td>2024</td>\n",
       "      <td>114</td>\n",
       "      <td>3453</td>\n",
       "      <td>70</td>\n",
       "      <td>3236</td>\n",
       "      <td>61</td>\n",
       "      <td>W</td>\n",
       "    </tr>\n",
       "    <tr>\n",
       "      <th>317446</th>\n",
       "      <td>2024</td>\n",
       "      <td>114</td>\n",
       "      <td>3461</td>\n",
       "      <td>88</td>\n",
       "      <td>3363</td>\n",
       "      <td>73</td>\n",
       "      <td>W</td>\n",
       "    </tr>\n",
       "  </tbody>\n",
       "</table>\n",
       "<p>317447 rows × 7 columns</p>\n",
       "</div>"
      ],
      "text/plain": [
       "        Season  DayNum  WTeamID  WScore  LTeamID  LScore League\n",
       "0         1985      20     1228      81     1328      64      M\n",
       "1         1985      25     1106      77     1354      70      M\n",
       "2         1985      25     1112      63     1223      56      M\n",
       "3         1985      25     1165      70     1432      54      M\n",
       "4         1985      25     1192      86     1447      74      M\n",
       "...        ...     ...      ...     ...      ...     ...    ...\n",
       "317442    2024     114     3409      76     3396      67      W\n",
       "317443    2024     114     3424      63     3129      57      W\n",
       "317444    2024     114     3433      69     3348      59      W\n",
       "317445    2024     114     3453      70     3236      61      W\n",
       "317446    2024     114     3461      88     3363      73      W\n",
       "\n",
       "[317447 rows x 7 columns]"
      ]
     },
     "execution_count": 26,
     "metadata": {},
     "output_type": "execute_result"
    }
   ],
   "source": [
    "df_season_results"
   ]
  },
  {
   "cell_type": "code",
   "execution_count": 27,
   "id": "a0bfbf4b",
   "metadata": {
    "execution": {
     "iopub.execute_input": "2024-03-15T20:01:53.369594Z",
     "iopub.status.busy": "2024-03-15T20:01:53.369185Z",
     "iopub.status.idle": "2024-03-15T20:01:53.398136Z",
     "shell.execute_reply": "2024-03-15T20:01:53.396933Z"
    },
    "papermill": {
     "duration": 0.05887,
     "end_time": "2024-03-15T20:01:53.400959",
     "exception": false,
     "start_time": "2024-03-15T20:01:53.342089",
     "status": "completed"
    },
    "tags": []
   },
   "outputs": [],
   "source": [
    "df_season_results[\"WTeamName\"] = df_season_results[\"WTeamID\"].map(team_map)\n",
    "df_season_results[\"LTeamName\"] = df_season_results[\"LTeamID\"].map(team_map)"
   ]
  },
  {
   "cell_type": "code",
   "execution_count": 28,
   "id": "dd880085",
   "metadata": {
    "execution": {
     "iopub.execute_input": "2024-03-15T20:01:53.456823Z",
     "iopub.status.busy": "2024-03-15T20:01:53.456045Z",
     "iopub.status.idle": "2024-03-15T20:01:53.461160Z",
     "shell.execute_reply": "2024-03-15T20:01:53.460411Z"
    },
    "papermill": {
     "duration": 0.035945,
     "end_time": "2024-03-15T20:01:53.463954",
     "exception": false,
     "start_time": "2024-03-15T20:01:53.428009",
     "status": "completed"
    },
    "tags": []
   },
   "outputs": [
    {
     "name": "stdout",
     "output_type": "stream",
     "text": [
      "Index(['Season', 'DayNum', 'WTeamID', 'WScore', 'LTeamID', 'LScore', 'League',\n",
      "       'WTeamName', 'LTeamName'],\n",
      "      dtype='object')\n"
     ]
    }
   ],
   "source": [
    "print(df_season_results.columns)\n"
   ]
  },
  {
   "cell_type": "code",
   "execution_count": 29,
   "id": "f8f655fa",
   "metadata": {
    "execution": {
     "iopub.execute_input": "2024-03-15T20:01:53.517983Z",
     "iopub.status.busy": "2024-03-15T20:01:53.517008Z",
     "iopub.status.idle": "2024-03-15T20:01:53.841524Z",
     "shell.execute_reply": "2024-03-15T20:01:53.840263Z"
    },
    "papermill": {
     "duration": 0.353139,
     "end_time": "2024-03-15T20:01:53.842843",
     "exception": true,
     "start_time": "2024-03-15T20:01:53.489704",
     "status": "failed"
    },
    "tags": []
   },
   "outputs": [
    {
     "ename": "KeyError",
     "evalue": "'ScoreDiff'",
     "output_type": "error",
     "traceback": [
      "\u001b[0;31m---------------------------------------------------------------------------\u001b[0m",
      "\u001b[0;31mKeyError\u001b[0m                                  Traceback (most recent call last)",
      "\u001b[0;32m/tmp/ipykernel_18/2829767224.py\u001b[0m in \u001b[0;36m?\u001b[0;34m()\u001b[0m\n\u001b[0;32m----> 1\u001b[0;31m \u001b[0mdf_season_results\u001b[0m\u001b[0;34m.\u001b[0m\u001b[0msort_values\u001b[0m\u001b[0;34m(\u001b[0m\u001b[0;34m\"ScoreDiff\"\u001b[0m\u001b[0;34m,\u001b[0m \u001b[0mascending\u001b[0m\u001b[0;34m=\u001b[0m\u001b[0;32mFalse\u001b[0m\u001b[0;34m)\u001b[0m\u001b[0;34m[\u001b[0m\u001b[0;34m\"ScoreDiff\"\u001b[0m\u001b[0;34m]\u001b[0m\u001b[0;34m.\u001b[0m\u001b[0mplot\u001b[0m\u001b[0;34m(\u001b[0m\u001b[0mkind\u001b[0m\u001b[0;34m=\u001b[0m\u001b[0;34m\"hist\"\u001b[0m\u001b[0;34m,\u001b[0m \u001b[0mbins\u001b[0m\u001b[0;34m=\u001b[0m\u001b[0;36m100\u001b[0m\u001b[0;34m)\u001b[0m\u001b[0;34m\u001b[0m\u001b[0;34m\u001b[0m\u001b[0m\n\u001b[0m",
      "\u001b[0;32m/opt/conda/lib/python3.10/site-packages/pandas/core/frame.py\u001b[0m in \u001b[0;36m?\u001b[0;34m(self, by, axis, ascending, inplace, kind, na_position, ignore_index, key)\u001b[0m\n\u001b[1;32m   7169\u001b[0m             )\n\u001b[1;32m   7170\u001b[0m         \u001b[0;32melif\u001b[0m \u001b[0mlen\u001b[0m\u001b[0;34m(\u001b[0m\u001b[0mby\u001b[0m\u001b[0;34m)\u001b[0m\u001b[0;34m:\u001b[0m\u001b[0;34m\u001b[0m\u001b[0;34m\u001b[0m\u001b[0m\n\u001b[1;32m   7171\u001b[0m             \u001b[0;31m# len(by) == 1\u001b[0m\u001b[0;34m\u001b[0m\u001b[0;34m\u001b[0m\u001b[0m\n\u001b[1;32m   7172\u001b[0m \u001b[0;34m\u001b[0m\u001b[0m\n\u001b[0;32m-> 7173\u001b[0;31m             \u001b[0mk\u001b[0m \u001b[0;34m=\u001b[0m \u001b[0mself\u001b[0m\u001b[0;34m.\u001b[0m\u001b[0m_get_label_or_level_values\u001b[0m\u001b[0;34m(\u001b[0m\u001b[0mby\u001b[0m\u001b[0;34m[\u001b[0m\u001b[0;36m0\u001b[0m\u001b[0;34m]\u001b[0m\u001b[0;34m,\u001b[0m \u001b[0maxis\u001b[0m\u001b[0;34m=\u001b[0m\u001b[0maxis\u001b[0m\u001b[0;34m)\u001b[0m\u001b[0;34m\u001b[0m\u001b[0;34m\u001b[0m\u001b[0m\n\u001b[0m\u001b[1;32m   7174\u001b[0m \u001b[0;34m\u001b[0m\u001b[0m\n\u001b[1;32m   7175\u001b[0m             \u001b[0;31m# need to rewrap column in Series to apply key function\u001b[0m\u001b[0;34m\u001b[0m\u001b[0;34m\u001b[0m\u001b[0m\n\u001b[1;32m   7176\u001b[0m             \u001b[0;32mif\u001b[0m \u001b[0mkey\u001b[0m \u001b[0;32mis\u001b[0m \u001b[0;32mnot\u001b[0m \u001b[0;32mNone\u001b[0m\u001b[0;34m:\u001b[0m\u001b[0;34m\u001b[0m\u001b[0;34m\u001b[0m\u001b[0m\n",
      "\u001b[0;32m/opt/conda/lib/python3.10/site-packages/pandas/core/generic.py\u001b[0m in \u001b[0;36m?\u001b[0;34m(self, key, axis)\u001b[0m\n\u001b[1;32m   1906\u001b[0m             \u001b[0mvalues\u001b[0m \u001b[0;34m=\u001b[0m \u001b[0mself\u001b[0m\u001b[0;34m.\u001b[0m\u001b[0mxs\u001b[0m\u001b[0;34m(\u001b[0m\u001b[0mkey\u001b[0m\u001b[0;34m,\u001b[0m \u001b[0maxis\u001b[0m\u001b[0;34m=\u001b[0m\u001b[0mother_axes\u001b[0m\u001b[0;34m[\u001b[0m\u001b[0;36m0\u001b[0m\u001b[0;34m]\u001b[0m\u001b[0;34m)\u001b[0m\u001b[0;34m.\u001b[0m\u001b[0m_values\u001b[0m\u001b[0;34m\u001b[0m\u001b[0;34m\u001b[0m\u001b[0m\n\u001b[1;32m   1907\u001b[0m         \u001b[0;32melif\u001b[0m \u001b[0mself\u001b[0m\u001b[0;34m.\u001b[0m\u001b[0m_is_level_reference\u001b[0m\u001b[0;34m(\u001b[0m\u001b[0mkey\u001b[0m\u001b[0;34m,\u001b[0m \u001b[0maxis\u001b[0m\u001b[0;34m=\u001b[0m\u001b[0maxis\u001b[0m\u001b[0;34m)\u001b[0m\u001b[0;34m:\u001b[0m\u001b[0;34m\u001b[0m\u001b[0;34m\u001b[0m\u001b[0m\n\u001b[1;32m   1908\u001b[0m             \u001b[0mvalues\u001b[0m \u001b[0;34m=\u001b[0m \u001b[0mself\u001b[0m\u001b[0;34m.\u001b[0m\u001b[0maxes\u001b[0m\u001b[0;34m[\u001b[0m\u001b[0maxis\u001b[0m\u001b[0;34m]\u001b[0m\u001b[0;34m.\u001b[0m\u001b[0mget_level_values\u001b[0m\u001b[0;34m(\u001b[0m\u001b[0mkey\u001b[0m\u001b[0;34m)\u001b[0m\u001b[0;34m.\u001b[0m\u001b[0m_values\u001b[0m\u001b[0;34m\u001b[0m\u001b[0;34m\u001b[0m\u001b[0m\n\u001b[1;32m   1909\u001b[0m         \u001b[0;32melse\u001b[0m\u001b[0;34m:\u001b[0m\u001b[0;34m\u001b[0m\u001b[0;34m\u001b[0m\u001b[0m\n\u001b[0;32m-> 1910\u001b[0;31m             \u001b[0;32mraise\u001b[0m \u001b[0mKeyError\u001b[0m\u001b[0;34m(\u001b[0m\u001b[0mkey\u001b[0m\u001b[0;34m)\u001b[0m\u001b[0;34m\u001b[0m\u001b[0;34m\u001b[0m\u001b[0m\n\u001b[0m\u001b[1;32m   1911\u001b[0m \u001b[0;34m\u001b[0m\u001b[0m\n\u001b[1;32m   1912\u001b[0m         \u001b[0;31m# Check for duplicates\u001b[0m\u001b[0;34m\u001b[0m\u001b[0;34m\u001b[0m\u001b[0m\n\u001b[1;32m   1913\u001b[0m         \u001b[0;32mif\u001b[0m \u001b[0mvalues\u001b[0m\u001b[0;34m.\u001b[0m\u001b[0mndim\u001b[0m \u001b[0;34m>\u001b[0m \u001b[0;36m1\u001b[0m\u001b[0;34m:\u001b[0m\u001b[0;34m\u001b[0m\u001b[0;34m\u001b[0m\u001b[0m\n",
      "\u001b[0;31mKeyError\u001b[0m: 'ScoreDiff'"
     ]
    }
   ],
   "source": [
    "df_season_results.sort_values(\"ScoreDiff\", ascending=False)[\"ScoreDiff\"].plot(kind=\"hist\", bins=100)"
   ]
  },
  {
   "cell_type": "code",
   "execution_count": null,
   "id": "9166e186",
   "metadata": {
    "execution": {
     "iopub.execute_input": "2024-03-15T18:09:56.436806Z",
     "iopub.status.busy": "2024-03-15T18:09:56.435977Z",
     "iopub.status.idle": "2024-03-15T18:09:56.548021Z",
     "shell.execute_reply": "2024-03-15T18:09:56.546697Z",
     "shell.execute_reply.started": "2024-03-15T18:09:56.436756Z"
    },
    "papermill": {
     "duration": null,
     "end_time": null,
     "exception": null,
     "start_time": null,
     "status": "pending"
    },
    "tags": []
   },
   "outputs": [],
   "source": [
    "df_season_results.sort_values(\"ScoreDiff\")"
   ]
  },
  {
   "cell_type": "code",
   "execution_count": null,
   "id": "8ea1f6d0",
   "metadata": {
    "execution": {
     "iopub.execute_input": "2024-03-15T18:09:57.338784Z",
     "iopub.status.busy": "2024-03-15T18:09:57.338238Z",
     "iopub.status.idle": "2024-03-15T18:09:57.786215Z",
     "shell.execute_reply": "2024-03-15T18:09:57.785222Z",
     "shell.execute_reply.started": "2024-03-15T18:09:57.338742Z"
    },
    "papermill": {
     "duration": null,
     "end_time": null,
     "exception": null,
     "start_time": null,
     "status": "pending"
    },
    "tags": []
   },
   "outputs": [],
   "source": [
    "df_season_results.sort_values(\"ScoreDiff\").value_counts()"
   ]
  },
  {
   "cell_type": "code",
   "execution_count": null,
   "id": "e0bc383e",
   "metadata": {
    "execution": {
     "iopub.execute_input": "2024-03-15T18:09:57.984197Z",
     "iopub.status.busy": "2024-03-15T18:09:57.983412Z",
     "iopub.status.idle": "2024-03-15T18:09:58.225947Z",
     "shell.execute_reply": "2024-03-15T18:09:58.224962Z",
     "shell.execute_reply.started": "2024-03-15T18:09:57.984154Z"
    },
    "papermill": {
     "duration": null,
     "end_time": null,
     "exception": null,
     "start_time": null,
     "status": "pending"
    },
    "tags": []
   },
   "outputs": [],
   "source": [
    "# Team Wins and Losses\n",
    "num_win = df_season_results.groupby([\"Season\", \"WTeamID\", \"League\"]).count()\n",
    "num_win = num_win.reset_index()[[\"Season\", \"WTeamID\", \"League\", \"DayNum\"]].rename(columns={\"DayNum\": \"NumWins\", \"WTeamID\": \"TeamID\"})\n",
    "num_loss = df_season_results.groupby([\"Season\", \"LTeamID\", \"League\"]).count()\n",
    "num_loss = num_loss.reset_index()[[\"Season\", \"LTeamID\", \"League\", \"DayNum\"]].rename(columns={\"DayNum\": \"NumLosses\", \"LTeamID\": \"TeamID\"})\n",
    "team_season_win_loss = num_win.merge(num_loss, on=[\"Season\", \"TeamID\"], how=\"outer\")\n",
    "team_season_win_loss[\"TeamName\"] = team_season_win_loss[\"TeamID\"].map(team_map)\n",
    "\n",
    "# Preprocess Win-Loss data\n",
    "team_season_win_loss[\"NumLosses\"] = team_season_win_loss[\"NumLosses\"].fillna(0).astype(int)\n",
    "team_season_win_loss[\"NumWins\"] = team_season_win_loss[\"NumWins\"].fillna(0).astype(int)"
   ]
  },
  {
   "cell_type": "code",
   "execution_count": null,
   "id": "b96a6b8c",
   "metadata": {
    "execution": {
     "iopub.execute_input": "2024-03-15T18:09:58.625759Z",
     "iopub.status.busy": "2024-03-15T18:09:58.625087Z",
     "iopub.status.idle": "2024-03-15T18:09:58.649288Z",
     "shell.execute_reply": "2024-03-15T18:09:58.648059Z",
     "shell.execute_reply.started": "2024-03-15T18:09:58.625725Z"
    },
    "papermill": {
     "duration": null,
     "end_time": null,
     "exception": null,
     "start_time": null,
     "status": "pending"
    },
    "tags": []
   },
   "outputs": [],
   "source": [
    "num_win.merge(num_loss, on=[\"Season\", \"TeamID\"])"
   ]
  },
  {
   "cell_type": "code",
   "execution_count": null,
   "id": "07d9f14f",
   "metadata": {
    "execution": {
     "iopub.execute_input": "2024-03-15T18:09:59.183549Z",
     "iopub.status.busy": "2024-03-15T18:09:59.183059Z",
     "iopub.status.idle": "2024-03-15T18:09:59.191986Z",
     "shell.execute_reply": "2024-03-15T18:09:59.190484Z",
     "shell.execute_reply.started": "2024-03-15T18:09:59.183512Z"
    },
    "papermill": {
     "duration": null,
     "end_time": null,
     "exception": null,
     "start_time": null,
     "status": "pending"
    },
    "tags": []
   },
   "outputs": [],
   "source": [
    "team_season_win_loss[\"NumLosses\"] = team_season_win_loss[\"NumLosses\"].fillna(0).astype(\"int\")\n",
    "team_season_win_loss[\"NumWins\"] = team_season_win_loss[\"NumWins\"].fillna(0).astype(\"int\")"
   ]
  },
  {
   "cell_type": "code",
   "execution_count": null,
   "id": "122dc99b",
   "metadata": {
    "execution": {
     "iopub.execute_input": "2024-03-15T18:09:59.643745Z",
     "iopub.status.busy": "2024-03-15T18:09:59.643207Z",
     "iopub.status.idle": "2024-03-15T18:09:59.655601Z",
     "shell.execute_reply": "2024-03-15T18:09:59.654681Z",
     "shell.execute_reply.started": "2024-03-15T18:09:59.643704Z"
    },
    "papermill": {
     "duration": null,
     "end_time": null,
     "exception": null,
     "start_time": null,
     "status": "pending"
    },
    "tags": []
   },
   "outputs": [],
   "source": [
    "# Analyze teams with zero losses in the men's league\n",
    "print(team_season_win_loss.loc[team_season_win_loss[\"NumLosses\"] == 0].query('League_y == \"M\"'))"
   ]
  },
  {
   "cell_type": "code",
   "execution_count": null,
   "id": "b0121dc1",
   "metadata": {
    "execution": {
     "iopub.execute_input": "2024-03-15T18:10:00.225037Z",
     "iopub.status.busy": "2024-03-15T18:10:00.224241Z",
     "iopub.status.idle": "2024-03-15T18:10:00.243467Z",
     "shell.execute_reply": "2024-03-15T18:10:00.242085Z",
     "shell.execute_reply.started": "2024-03-15T18:10:00.224996Z"
    },
    "papermill": {
     "duration": null,
     "end_time": null,
     "exception": null,
     "start_time": null,
     "status": "pending"
    },
    "tags": []
   },
   "outputs": [],
   "source": [
    "team_season_win_loss"
   ]
  },
  {
   "cell_type": "code",
   "execution_count": null,
   "id": "bf75c15c",
   "metadata": {
    "execution": {
     "iopub.execute_input": "2024-03-15T18:10:00.758816Z",
     "iopub.status.busy": "2024-03-15T18:10:00.758320Z",
     "iopub.status.idle": "2024-03-15T18:10:00.777776Z",
     "shell.execute_reply": "2024-03-15T18:10:00.776300Z",
     "shell.execute_reply.started": "2024-03-15T18:10:00.758782Z"
    },
    "papermill": {
     "duration": null,
     "end_time": null,
     "exception": null,
     "start_time": null,
     "status": "pending"
    },
    "tags": []
   },
   "outputs": [],
   "source": [
    "df_season_results"
   ]
  },
  {
   "cell_type": "code",
   "execution_count": null,
   "id": "6a4da34e",
   "metadata": {
    "execution": {
     "iopub.execute_input": "2024-03-15T18:10:01.016464Z",
     "iopub.status.busy": "2024-03-15T18:10:01.015970Z",
     "iopub.status.idle": "2024-03-15T18:10:01.073762Z",
     "shell.execute_reply": "2024-03-15T18:10:01.072378Z",
     "shell.execute_reply.started": "2024-03-15T18:10:01.016426Z"
    },
    "papermill": {
     "duration": null,
     "end_time": null,
     "exception": null,
     "start_time": null,
     "status": "pending"
    },
    "tags": []
   },
   "outputs": [],
   "source": [
    "# Compute average score differences\n",
    "gap_win = df_season_results.groupby([\"Season\", \"WTeamID\"])[\"ScoreDiff\"].mean().reset_index().rename(columns={\"ScoreDiff\": \"DiffWins\", \"WTeamID\": \"TeamID\"})\n",
    "gap_loss = df_season_results.groupby([\"Season\", \"LTeamID\"])[\"ScoreDiff\"].mean().reset_index().rename(columns={\"ScoreDiff\": \"DiffLosses\", \"LTeamID\": \"TeamID\"})"
   ]
  },
  {
   "cell_type": "code",
   "execution_count": null,
   "id": "23d40d3a",
   "metadata": {
    "execution": {
     "iopub.execute_input": "2024-03-15T18:10:01.492941Z",
     "iopub.status.busy": "2024-03-15T18:10:01.492375Z",
     "iopub.status.idle": "2024-03-15T18:10:01.551665Z",
     "shell.execute_reply": "2024-03-15T18:10:01.550346Z",
     "shell.execute_reply.started": "2024-03-15T18:10:01.492895Z"
    },
    "papermill": {
     "duration": null,
     "end_time": null,
     "exception": null,
     "start_time": null,
     "status": "pending"
    },
    "tags": []
   },
   "outputs": [],
   "source": [
    "# How much points  scored in more average \n",
    "gap_win = df_season_results.groupby([\"Season\", \"WTeamID\"])[\"ScoreDiff\"].mean().reset_index()\n",
    "gap_win = gap_win[[\"Season\", \"WTeamID\", \"ScoreDiff\"]] \\\n",
    "    .rename(columns={\"ScoreDiff\": \"DiffWins\", \"WTeamID\": \"TeamID\"})\n",
    "#How much points scored less in average\n",
    "gap_loss = df_season_results.groupby([\"Season\", \"LTeamID\"])[\"ScoreDiff\"].mean().reset_index()\n",
    "gap_loss = gap_loss[[\"Season\", \"LTeamID\", \"ScoreDiff\"]] \\\n",
    "    .rename(columns={\"ScoreDiff\": \"DiffLosses\", \"LTeamID\": \"TeamID\"})"
   ]
  },
  {
   "cell_type": "code",
   "execution_count": null,
   "id": "a60f439c",
   "metadata": {
    "execution": {
     "iopub.execute_input": "2024-03-15T18:10:01.950840Z",
     "iopub.status.busy": "2024-03-15T18:10:01.949541Z",
     "iopub.status.idle": "2024-03-15T18:10:01.968295Z",
     "shell.execute_reply": "2024-03-15T18:10:01.966702Z",
     "shell.execute_reply.started": "2024-03-15T18:10:01.950792Z"
    },
    "papermill": {
     "duration": null,
     "end_time": null,
     "exception": null,
     "start_time": null,
     "status": "pending"
    },
    "tags": []
   },
   "outputs": [],
   "source": [
    "df_season_results"
   ]
  },
  {
   "cell_type": "code",
   "execution_count": null,
   "id": "5de7049d",
   "metadata": {
    "execution": {
     "iopub.execute_input": "2024-03-15T18:10:02.301442Z",
     "iopub.status.busy": "2024-03-15T18:10:02.299940Z",
     "iopub.status.idle": "2024-03-15T18:10:02.607358Z",
     "shell.execute_reply": "2024-03-15T18:10:02.606151Z",
     "shell.execute_reply.started": "2024-03-15T18:10:02.301378Z"
    },
    "papermill": {
     "duration": null,
     "end_time": null,
     "exception": null,
     "start_time": null,
     "status": "pending"
    },
    "tags": []
   },
   "outputs": [],
   "source": [
    "df_features_season_w = df_season_results.groupby([\"Season\", \"WTeamID\", \"League\"]) \\\n",
    "    .count().reset_index()[[\"Season\", \"WTeamID\", \"League\"]].rename(columns={\"WTeamID\": \"TeamID\"})\n",
    "df_features_season_l = df_season_results \\\n",
    "    .groupby([\"Season\", \"LTeamID\", \"League\"]) \\\n",
    "    .count().reset_index()[[\"Season\", \"LTeamID\", \"League\"]].rename(columns={\"LTeamID\": \"TeamID\"})\n",
    "df_features_season = pd.concat([df_features_season_w, df_features_season_l], axis=0) \\\n",
    "    .drop_duplicates() \\\n",
    "    .sort_values([\"Season\", \"TeamID\", \"League\"]).reset_index(drop=True)\n",
    "\n",
    "df_features_season = df_features_season.merge(num_win, on=[\"Season\", \"TeamID\",\"League\"], how=\"left\")\n",
    "df_features_season = df_features_season.merge(num_loss, on=[\"Season\", \"TeamID\", \"League\"], how=\"left\")\n",
    "df_features_season = df_features_season.merge(gap_win, on=[\"Season\", \"TeamID\"], how=\"left\")\n",
    "df_features_season = df_features_season.merge(gap_loss, on=[\"Season\", \"TeamID\"], how=\"left\")\n",
    "\n",
    "df_features_season = df_features_season.fillna(0)\n",
    "\n",
    "df_features_season[[\"NumWins\", \"NumLosses\"]] = df_features_season[[\"NumWins\", \"NumLosses\"]].astype(\"int\")"
   ]
  },
  {
   "cell_type": "code",
   "execution_count": null,
   "id": "cabcaa75",
   "metadata": {
    "execution": {
     "iopub.execute_input": "2024-03-15T18:10:04.018944Z",
     "iopub.status.busy": "2024-03-15T18:10:04.018376Z",
     "iopub.status.idle": "2024-03-15T18:10:04.036208Z",
     "shell.execute_reply": "2024-03-15T18:10:04.034583Z",
     "shell.execute_reply.started": "2024-03-15T18:10:04.018900Z"
    },
    "papermill": {
     "duration": null,
     "end_time": null,
     "exception": null,
     "start_time": null,
     "status": "pending"
    },
    "tags": []
   },
   "outputs": [],
   "source": [
    "df_features_season_l"
   ]
  },
  {
   "cell_type": "code",
   "execution_count": null,
   "id": "7cc2648c",
   "metadata": {
    "execution": {
     "iopub.execute_input": "2024-03-15T18:10:05.053684Z",
     "iopub.status.busy": "2024-03-15T18:10:05.053142Z",
     "iopub.status.idle": "2024-03-15T18:10:05.068714Z",
     "shell.execute_reply": "2024-03-15T18:10:05.067347Z",
     "shell.execute_reply.started": "2024-03-15T18:10:05.053640Z"
    },
    "papermill": {
     "duration": null,
     "end_time": null,
     "exception": null,
     "start_time": null,
     "status": "pending"
    },
    "tags": []
   },
   "outputs": [],
   "source": [
    "df_features_season_w"
   ]
  },
  {
   "cell_type": "code",
   "execution_count": null,
   "id": "5ef34461",
   "metadata": {
    "execution": {
     "iopub.execute_input": "2024-03-15T18:10:05.727994Z",
     "iopub.status.busy": "2024-03-15T18:10:05.727455Z",
     "iopub.status.idle": "2024-03-15T18:10:05.739848Z",
     "shell.execute_reply": "2024-03-15T18:10:05.738367Z",
     "shell.execute_reply.started": "2024-03-15T18:10:05.727952Z"
    },
    "papermill": {
     "duration": null,
     "end_time": null,
     "exception": null,
     "start_time": null,
     "status": "pending"
    },
    "tags": []
   },
   "outputs": [],
   "source": [
    "df_features_season[\"WinRatio\"] = \\\n",
    "    df_features_season[\"NumWins\"] / \\\n",
    "    (df_features_season[\"NumWins\"] + df_features_season[\"NumLosses\"])\n",
    "df_features_season[\"ScoreDiffAvg\"] = (\n",
    "    (df_features_season[\"NumWins\"] * df_features_season[\"DiffWins\"] - \n",
    "    df_features_season[\"NumLosses\"] *  df_features_season[\"DiffLosses\"])\n",
    "    / (df_features_season[\"NumWins\"] * df_features_season[\"NumLosses\"])\n",
    ")"
   ]
  },
  {
   "cell_type": "code",
   "execution_count": null,
   "id": "7660c267",
   "metadata": {
    "execution": {
     "iopub.execute_input": "2024-03-15T18:10:06.538669Z",
     "iopub.status.busy": "2024-03-15T18:10:06.537275Z",
     "iopub.status.idle": "2024-03-15T18:10:06.544139Z",
     "shell.execute_reply": "2024-03-15T18:10:06.542791Z",
     "shell.execute_reply.started": "2024-03-15T18:10:06.538617Z"
    },
    "papermill": {
     "duration": null,
     "end_time": null,
     "exception": null,
     "start_time": null,
     "status": "pending"
    },
    "tags": []
   },
   "outputs": [],
   "source": [
    "FEATURES = [\"WinRatio\", \"ScoreDiffAvg\"]"
   ]
  },
  {
   "cell_type": "code",
   "execution_count": null,
   "id": "db2e3261",
   "metadata": {
    "execution": {
     "iopub.execute_input": "2024-03-15T18:10:07.478233Z",
     "iopub.status.busy": "2024-03-15T18:10:07.476890Z",
     "iopub.status.idle": "2024-03-15T18:10:07.496874Z",
     "shell.execute_reply": "2024-03-15T18:10:07.495896Z",
     "shell.execute_reply.started": "2024-03-15T18:10:07.478186Z"
    },
    "papermill": {
     "duration": null,
     "end_time": null,
     "exception": null,
     "start_time": null,
     "status": "pending"
    },
    "tags": []
   },
   "outputs": [],
   "source": [
    "df_tourney_results = pd.concat([\n",
    "    pd.read_csv(DATA_PATH + \"MNCAATourneyCompactResults.csv\"),\n",
    "    pd.read_csv(DATA_PATH + \"WNCAATourneyCompactResults.csv\")\n",
    "], ignore_index=True)\n",
    "df_tourney_results.drop([\"WLoc\", \"NumOT\"], axis=1, inplace=True)"
   ]
  },
  {
   "cell_type": "code",
   "execution_count": null,
   "id": "b31f1e34",
   "metadata": {
    "execution": {
     "iopub.execute_input": "2024-03-15T18:10:08.265245Z",
     "iopub.status.busy": "2024-03-15T18:10:08.264330Z",
     "iopub.status.idle": "2024-03-15T18:10:08.280184Z",
     "shell.execute_reply": "2024-03-15T18:10:08.279006Z",
     "shell.execute_reply.started": "2024-03-15T18:10:08.265198Z"
    },
    "papermill": {
     "duration": null,
     "end_time": null,
     "exception": null,
     "start_time": null,
     "status": "pending"
    },
    "tags": []
   },
   "outputs": [],
   "source": [
    "df_tourney_results"
   ]
  },
  {
   "cell_type": "code",
   "execution_count": null,
   "id": "419283cd",
   "metadata": {
    "execution": {
     "iopub.execute_input": "2024-03-15T18:10:09.036347Z",
     "iopub.status.busy": "2024-03-15T18:10:09.035098Z",
     "iopub.status.idle": "2024-03-15T18:10:09.051266Z",
     "shell.execute_reply": "2024-03-15T18:10:09.049999Z",
     "shell.execute_reply.started": "2024-03-15T18:10:09.036298Z"
    },
    "papermill": {
     "duration": null,
     "end_time": null,
     "exception": null,
     "start_time": null,
     "status": "pending"
    },
    "tags": []
   },
   "outputs": [],
   "source": [
    "df = df_tourney_results.copy()\n",
    "df = df[df[\"Season\"] >= 2016].reset_index(drop=True)\n",
    "\n",
    "df.head()"
   ]
  },
  {
   "cell_type": "code",
   "execution_count": null,
   "id": "259b1e14",
   "metadata": {
    "execution": {
     "iopub.execute_input": "2024-03-15T18:10:09.866090Z",
     "iopub.status.busy": "2024-03-15T18:10:09.864850Z",
     "iopub.status.idle": "2024-03-15T18:10:09.884660Z",
     "shell.execute_reply": "2024-03-15T18:10:09.883371Z",
     "shell.execute_reply.started": "2024-03-15T18:10:09.866038Z"
    },
    "papermill": {
     "duration": null,
     "end_time": null,
     "exception": null,
     "start_time": null,
     "status": "pending"
    },
    "tags": []
   },
   "outputs": [],
   "source": [
    "# Merge df with df_seeds based on Season and WTeamID\n",
    "df = df.merge(\n",
    "    df_seeds,\n",
    "    how=\"left\",\n",
    "    left_on=[\"Season\", \"WTeamID\"],\n",
    "    right_on=[\"Season\", \"TeamID\"]\n",
    ").drop(\"TeamID\", axis=1).rename(columns={\"Seed\": \"SeedW\"})\n",
    "\n",
    "# Merge df with df_seeds based on Season and LTeamID\n",
    "df = df.merge(\n",
    "    df_seeds,\n",
    "    how=\"left\",\n",
    "    left_on=[\"Season\", \"LTeamID\"],\n",
    "    right_on=[\"Season\", \"TeamID\"]\n",
    ").drop(\"TeamID\", axis=1).rename(columns={\"Seed\": \"SeedL\"})\n",
    "\n",
    "# Drop duplicated columns SeedW and SeedL\n",
    "df = df.loc[:,~df.columns.duplicated()]"
   ]
  },
  {
   "cell_type": "code",
   "execution_count": null,
   "id": "83c8d4a2",
   "metadata": {
    "papermill": {
     "duration": null,
     "end_time": null,
     "exception": null,
     "start_time": null,
     "status": "pending"
    },
    "tags": []
   },
   "outputs": [],
   "source": []
  },
  {
   "cell_type": "code",
   "execution_count": null,
   "id": "e0b9154a",
   "metadata": {
    "execution": {
     "iopub.execute_input": "2024-03-15T18:10:11.865220Z",
     "iopub.status.busy": "2024-03-15T18:10:11.864724Z",
     "iopub.status.idle": "2024-03-15T18:10:11.883068Z",
     "shell.execute_reply": "2024-03-15T18:10:11.881646Z",
     "shell.execute_reply.started": "2024-03-15T18:10:11.865183Z"
    },
    "papermill": {
     "duration": null,
     "end_time": null,
     "exception": null,
     "start_time": null,
     "status": "pending"
    },
    "tags": []
   },
   "outputs": [],
   "source": [
    "df"
   ]
  },
  {
   "cell_type": "code",
   "execution_count": null,
   "id": "7d17fcf7",
   "metadata": {
    "execution": {
     "iopub.execute_input": "2024-03-15T18:10:12.897510Z",
     "iopub.status.busy": "2024-03-15T18:10:12.896998Z",
     "iopub.status.idle": "2024-03-15T18:10:12.903904Z",
     "shell.execute_reply": "2024-03-15T18:10:12.902577Z",
     "shell.execute_reply.started": "2024-03-15T18:10:12.897472Z"
    },
    "papermill": {
     "duration": null,
     "end_time": null,
     "exception": null,
     "start_time": null,
     "status": "pending"
    },
    "tags": []
   },
   "outputs": [],
   "source": [
    "import re\n",
    "\n",
    "def treat_seed(seed):\n",
    "    # Remove non-numeric characters from the seed string\n",
    "    seed = re.sub(\"[^0-9]\", \"\", seed)\n",
    "    # Convert the cleaned seed string to an integer\n",
    "    return int(seed)\n"
   ]
  },
  {
   "cell_type": "code",
   "execution_count": null,
   "id": "f7c0b4c5",
   "metadata": {
    "execution": {
     "iopub.execute_input": "2024-03-15T18:10:13.494187Z",
     "iopub.status.busy": "2024-03-15T18:10:13.493705Z",
     "iopub.status.idle": "2024-03-15T18:10:13.508740Z",
     "shell.execute_reply": "2024-03-15T18:10:13.507444Z",
     "shell.execute_reply.started": "2024-03-15T18:10:13.494153Z"
    },
    "papermill": {
     "duration": null,
     "end_time": null,
     "exception": null,
     "start_time": null,
     "status": "pending"
    },
    "tags": []
   },
   "outputs": [],
   "source": [
    "df[\"SeedW\"] = df[\"SeedW\"].apply(treat_seed)\n",
    "df[\"SeedL\"] = df[\"SeedL\"].apply(treat_seed)"
   ]
  },
  {
   "cell_type": "code",
   "execution_count": null,
   "id": "8f26fb2f",
   "metadata": {
    "execution": {
     "iopub.execute_input": "2024-03-15T18:10:14.474278Z",
     "iopub.status.busy": "2024-03-15T18:10:14.473418Z",
     "iopub.status.idle": "2024-03-15T18:10:14.486752Z",
     "shell.execute_reply": "2024-03-15T18:10:14.485639Z",
     "shell.execute_reply.started": "2024-03-15T18:10:14.474231Z"
    },
    "papermill": {
     "duration": null,
     "end_time": null,
     "exception": null,
     "start_time": null,
     "status": "pending"
    },
    "tags": []
   },
   "outputs": [],
   "source": [
    "# Find the unique columns by checking if the column name appears only once\n",
    "unique_columns = df.columns[df.columns.duplicated(keep=False)]\n",
    "\n",
    "# Filter out the unique columns and keep only one occurrence of each\n",
    "df = df.loc[:, ~df.columns.isin(unique_columns)]\n",
    "\n",
    "# Display the DataFrame after removing duplicated columns\n",
    "print(df)\n"
   ]
  },
  {
   "cell_type": "code",
   "execution_count": null,
   "id": "203f1e4a",
   "metadata": {
    "execution": {
     "iopub.execute_input": "2024-03-15T18:10:15.990433Z",
     "iopub.status.busy": "2024-03-15T18:10:15.989971Z",
     "iopub.status.idle": "2024-03-15T18:10:16.009427Z",
     "shell.execute_reply": "2024-03-15T18:10:16.007903Z",
     "shell.execute_reply.started": "2024-03-15T18:10:15.990398Z"
    },
    "papermill": {
     "duration": null,
     "end_time": null,
     "exception": null,
     "start_time": null,
     "status": "pending"
    },
    "tags": []
   },
   "outputs": [],
   "source": [
    "# Merge df with df_features_season based on Season and WTeamID\n",
    "df = df.merge(\n",
    "    df_features_season,\n",
    "    how=\"left\",\n",
    "    left_on=[\"Season\", \"WTeamID\"],\n",
    "    right_on=[\"Season\", \"TeamID\"]\n",
    ").rename(columns={\n",
    "    \"NumWins\": \"NumWinsW\",\n",
    "    \"NumLosses\": \"NumLossesW\",\n",
    "    \"DiffWins\": \"DiffWinsW\",\n",
    "    \"DiffLosses\": \"DiffLossesW\",\n",
    "    \"WinRatio\": \"WinRatioW\",\n",
    "    \"ScoreDiffAvg\": \"ScoreDiffAvgW\",\n",
    "}).drop(columns=\"TeamID\", axis=1)"
   ]
  },
  {
   "cell_type": "code",
   "execution_count": null,
   "id": "90a4a8a6",
   "metadata": {
    "execution": {
     "iopub.execute_input": "2024-03-15T18:10:19.527932Z",
     "iopub.status.busy": "2024-03-15T18:10:19.527383Z",
     "iopub.status.idle": "2024-03-15T18:10:19.549544Z",
     "shell.execute_reply": "2024-03-15T18:10:19.548155Z",
     "shell.execute_reply.started": "2024-03-15T18:10:19.527893Z"
    },
    "papermill": {
     "duration": null,
     "end_time": null,
     "exception": null,
     "start_time": null,
     "status": "pending"
    },
    "tags": []
   },
   "outputs": [],
   "source": [
    "df"
   ]
  },
  {
   "cell_type": "code",
   "execution_count": null,
   "id": "d377e666",
   "metadata": {
    "execution": {
     "iopub.execute_input": "2024-03-15T18:10:52.845399Z",
     "iopub.status.busy": "2024-03-15T18:10:52.844212Z",
     "iopub.status.idle": "2024-03-15T18:10:52.856882Z",
     "shell.execute_reply": "2024-03-15T18:10:52.855661Z",
     "shell.execute_reply.started": "2024-03-15T18:10:52.845349Z"
    },
    "papermill": {
     "duration": null,
     "end_time": null,
     "exception": null,
     "start_time": null,
     "status": "pending"
    },
    "tags": []
   },
   "outputs": [],
   "source": [
    "def add_loosing_matches(df):\n",
    "    # Define 'win_rename' dictionary\n",
    "    win_rename = {\n",
    "        \"WTeamID\": \"TeamIDA\",\n",
    "        \"WScore\": \"ScoreA\",\n",
    "        \"LTeamID\": \"TeamIDB\",\n",
    "        \"LScore\": \"ScoreB\",\n",
    "    }\n",
    "    \n",
    "    # Update 'win_rename' dictionary with columns ending with 'W'\n",
    "    win_rename.update({c : c[:-1] + \"A\" for c in df.columns if c.endswith(\"W\")})\n",
    "    # Update 'win_rename' dictionary with columns ending with 'L'\n",
    "    win_rename.update({c : c[:-1] + \"B\" for c in df.columns if c.endswith(\"L\")})\n",
    "\n",
    "    # Define 'lose_rename' dictionary\n",
    "    lose_rename = {\n",
    "        \"WTeamID\": \"TeamIDA\",\n",
    "        \"WScore\": \"ScoreB\",\n",
    "        \"LTeamID\": \"TeamIDB\",\n",
    "        \"LScore\": \"ScoreA\",\n",
    "    }\n",
    "    \n",
    "    # Update 'lose_rename' dictionary with columns ending with 'W'\n",
    "    lose_rename.update({c : c[:-1] + \"B\" for c in df.columns if c.endswith(\"W\")})\n",
    "    # Update 'lose_rename' dictionary with columns ending with 'L'\n",
    "    lose_rename.update({c : c[:-1] + \"A\" for c in df.columns if c.endswith(\"L\")})\n",
    "\n",
    "    # Copy the DataFrame\n",
    "    win_df = df.copy()\n",
    "    lose_df = df.copy()\n",
    "\n",
    "    # Rename columns in win_df and lose_df\n",
    "    win_df = win_df.rename(columns=win_rename)\n",
    "    lose_df = lose_df.rename(columns=lose_rename)\n",
    "\n",
    "    # Concatenate win_df and lose_df along axis=0 to add losing matches\n",
    "    return pd.concat([win_df, lose_df], axis=0, sort=False)\n"
   ]
  },
  {
   "cell_type": "code",
   "execution_count": null,
   "id": "65022010",
   "metadata": {
    "execution": {
     "iopub.execute_input": "2024-03-15T18:10:53.905269Z",
     "iopub.status.busy": "2024-03-15T18:10:53.904693Z",
     "iopub.status.idle": "2024-03-15T18:10:53.916763Z",
     "shell.execute_reply": "2024-03-15T18:10:53.915655Z",
     "shell.execute_reply.started": "2024-03-15T18:10:53.905224Z"
    },
    "papermill": {
     "duration": null,
     "end_time": null,
     "exception": null,
     "start_time": null,
     "status": "pending"
    },
    "tags": []
   },
   "outputs": [],
   "source": [
    "df = add_loosing_matches(df)"
   ]
  },
  {
   "cell_type": "markdown",
   "id": "d5ea2e58",
   "metadata": {
    "papermill": {
     "duration": null,
     "end_time": null,
     "exception": null,
     "start_time": null,
     "status": "pending"
    },
    "tags": []
   },
   "source": [
    "# Add Some Features about Diff Between Teams"
   ]
  },
  {
   "cell_type": "markdown",
   "id": "25ae3287",
   "metadata": {
    "papermill": {
     "duration": null,
     "end_time": null,
     "exception": null,
     "start_time": null,
     "status": "pending"
    },
    "tags": []
   },
   "source": []
  },
  {
   "cell_type": "code",
   "execution_count": null,
   "id": "23f3edba",
   "metadata": {
    "execution": {
     "iopub.execute_input": "2024-03-15T18:10:55.841482Z",
     "iopub.status.busy": "2024-03-15T18:10:55.840271Z",
     "iopub.status.idle": "2024-03-15T18:10:55.850479Z",
     "shell.execute_reply": "2024-03-15T18:10:55.849073Z",
     "shell.execute_reply.started": "2024-03-15T18:10:55.841432Z"
    },
    "papermill": {
     "duration": null,
     "end_time": null,
     "exception": null,
     "start_time": null,
     "status": "pending"
    },
    "tags": []
   },
   "outputs": [],
   "source": [
    "cols_to_diff = [\n",
    "    \"Seed\", \"WinRatio\", \"ScoreDiffAvg\", # '538rating'\n",
    "]\n",
    "\n",
    "for col in cols_to_diff:\n",
    "    df[col + \"Diff\"] = df[col + \"A\"] - df[col + \"B\"]"
   ]
  },
  {
   "cell_type": "code",
   "execution_count": null,
   "id": "4090e1dc",
   "metadata": {
    "execution": {
     "iopub.execute_input": "2024-03-15T18:10:56.964746Z",
     "iopub.status.busy": "2024-03-15T18:10:56.964206Z",
     "iopub.status.idle": "2024-03-15T18:10:57.002888Z",
     "shell.execute_reply": "2024-03-15T18:10:57.000895Z",
     "shell.execute_reply.started": "2024-03-15T18:10:56.964706Z"
    },
    "papermill": {
     "duration": null,
     "end_time": null,
     "exception": null,
     "start_time": null,
     "status": "pending"
    },
    "tags": []
   },
   "outputs": [],
   "source": [
    "df"
   ]
  },
  {
   "cell_type": "code",
   "execution_count": null,
   "id": "c0557bae",
   "metadata": {
    "execution": {
     "iopub.execute_input": "2024-03-15T18:10:57.561876Z",
     "iopub.status.busy": "2024-03-15T18:10:57.561283Z",
     "iopub.status.idle": "2024-03-15T18:10:57.570555Z",
     "shell.execute_reply": "2024-03-15T18:10:57.569325Z",
     "shell.execute_reply.started": "2024-03-15T18:10:57.561830Z"
    },
    "papermill": {
     "duration": null,
     "end_time": null,
     "exception": null,
     "start_time": null,
     "status": "pending"
    },
    "tags": []
   },
   "outputs": [],
   "source": [
    "df[\"ScoreDiff\"] = df[\"ScoreA\"] - df[\"ScoreB\"]\n",
    "df[\"WinA\"] = (df[\"ScoreDiff\"] > 0).astype(int)"
   ]
  },
  {
   "cell_type": "code",
   "execution_count": null,
   "id": "d6943eba",
   "metadata": {
    "execution": {
     "iopub.execute_input": "2024-03-15T18:14:47.300628Z",
     "iopub.status.busy": "2024-03-15T18:14:47.300086Z",
     "iopub.status.idle": "2024-03-15T18:14:47.307759Z",
     "shell.execute_reply": "2024-03-15T18:14:47.306379Z",
     "shell.execute_reply.started": "2024-03-15T18:14:47.300577Z"
    },
    "papermill": {
     "duration": null,
     "end_time": null,
     "exception": null,
     "start_time": null,
     "status": "pending"
    },
    "tags": []
   },
   "outputs": [],
   "source": [
    "target_feature = \"WinA\"\n",
    "avoid = [\"ScoreDiff\", \"Season\", \"DayNum\", \"A_Win\"]\n",
    "features = [col for col in df.columns if col not in avoid]"
   ]
  },
  {
   "cell_type": "code",
   "execution_count": null,
   "id": "12d795d7",
   "metadata": {
    "execution": {
     "iopub.execute_input": "2024-03-15T18:19:10.841724Z",
     "iopub.status.busy": "2024-03-15T18:19:10.840771Z",
     "iopub.status.idle": "2024-03-15T18:19:10.848700Z",
     "shell.execute_reply": "2024-03-15T18:19:10.847355Z",
     "shell.execute_reply.started": "2024-03-15T18:19:10.841672Z"
    },
    "papermill": {
     "duration": null,
     "end_time": null,
     "exception": null,
     "start_time": null,
     "status": "pending"
    },
    "tags": []
   },
   "outputs": [],
   "source": [
    "features = [\"TeamIDA\",\n",
    "           #\"ScoreA\",\n",
    "           \"TeamIDB\",\n",
    "            #ScoreB,\n",
    "           \"SeedA\",\n",
    "           \"SeedB\",\n",
    "           \"WinRatioA\",\n",
    "           \"GapAvgA\",\n",
    "           \"WinRatioB\",\n",
    "           \"GapAvgB\",\n",
    "           \"SeedDiff\",\n",
    "           \"WinRatioDiff\",\n",
    "           \"GapAvgDiff\"]"
   ]
  },
  {
   "cell_type": "code",
   "execution_count": null,
   "id": "e7b9c80c",
   "metadata": {
    "execution": {
     "iopub.execute_input": "2024-03-15T19:54:06.377934Z",
     "iopub.status.busy": "2024-03-15T19:54:06.377318Z",
     "iopub.status.idle": "2024-03-15T19:54:06.391959Z",
     "shell.execute_reply": "2024-03-15T19:54:06.390685Z",
     "shell.execute_reply.started": "2024-03-15T19:54:06.377893Z"
    },
    "papermill": {
     "duration": null,
     "end_time": null,
     "exception": null,
     "start_time": null,
     "status": "pending"
    },
    "tags": []
   },
   "outputs": [],
   "source": [
    "%%time\n",
    "# Develop a cv loop to avoid leaking data from future tournaments---\n",
    "def kfold_model(train_df, tst_df):\n",
    "    csv = []\n",
    "    preds_test = []\n",
    "    seasons = train_df[\"Season\"].unique()\n",
    "    \n",
    "    for season in seasons[1:]:\n",
    "        print(f\"\\nValidating on season {season}\")\n",
    "        X_train = train_df[train_df[\"season\"] < season][features].reset_index(drop = True).copy()\n",
    "        X_val = train_df[train_df[\"season\"] == season][features].reset_index(drop = True).copy()\n",
    "        \n",
    "        y_train = train_df[train_df[\"season\"] < season][features].reset_index(drop = True).copy()\n",
    "        y_val = train_df[train_df[\"season\"] == season][features].reset_index(drop = True).copy()\n",
    "        \n",
    "        tst_dataset = tst_df[features].copy()\n",
    "        \n",
    "        scaler = MinMaxScaler()\n",
    "        scaler.fit(X_train)\n",
    "        \n",
    "        X_train = scaler.transform(X_train)\n",
    "        X_val = scaler.transform(X_val)\n",
    "        tst_dataset = scaler.transform(tst_dataset)\n",
    "        \n",
    "        model = XGBClassifier(n_estimators =1024, random_state = 85)\n",
    "        model.fit(X_train,y_train,eval_set =[(x_val,y_val)], verbose = 0, early_stopping_round = 128)\n",
    "        pred = model.predict_proba(tst_dataset)\n",
    "        \n",
    "        loss = log_loss(y_val, pred)\n",
    "        cvs.append(loss)\n",
    "        \n",
    "        print(f'\\t -> Scored {loss:.4f}')\n",
    "        print(f'\\nLocal Cross Validation Score Is: {np.mean(cvs):.3f}','\\n')\n",
    "        return preds_test"
   ]
  },
  {
   "cell_type": "code",
   "execution_count": null,
   "id": "2bef959a",
   "metadata": {
    "execution": {
     "iopub.execute_input": "2024-03-15T19:54:57.248725Z",
     "iopub.status.busy": "2024-03-15T19:54:57.248031Z",
     "iopub.status.idle": "2024-03-15T19:54:57.285239Z",
     "shell.execute_reply": "2024-03-15T19:54:57.283757Z",
     "shell.execute_reply.started": "2024-03-15T19:54:57.248680Z"
    },
    "papermill": {
     "duration": null,
     "end_time": null,
     "exception": null,
     "start_time": null,
     "status": "pending"
    },
    "tags": []
   },
   "outputs": [],
   "source": [
    "predictions = kfold_model(df, df_test)"
   ]
  },
  {
   "cell_type": "code",
   "execution_count": null,
   "id": "9a70bd03",
   "metadata": {
    "papermill": {
     "duration": null,
     "end_time": null,
     "exception": null,
     "start_time": null,
     "status": "pending"
    },
    "tags": []
   },
   "outputs": [],
   "source": []
  }
 ],
 "metadata": {
  "kaggle": {
   "accelerator": "none",
   "dataSources": [
    {
     "databundleVersionId": 7878506,
     "sourceId": 70068,
     "sourceType": "competition"
    }
   ],
   "dockerImageVersionId": 30664,
   "isGpuEnabled": false,
   "isInternetEnabled": true,
   "language": "python",
   "sourceType": "notebook"
  },
  "kernelspec": {
   "display_name": "Python 3",
   "language": "python",
   "name": "python3"
  },
  "language_info": {
   "codemirror_mode": {
    "name": "ipython",
    "version": 3
   },
   "file_extension": ".py",
   "mimetype": "text/x-python",
   "name": "python",
   "nbconvert_exporter": "python",
   "pygments_lexer": "ipython3",
   "version": "3.10.13"
  },
  "papermill": {
   "default_parameters": {},
   "duration": 13.501361,
   "end_time": "2024-03-15T20:01:54.792991",
   "environment_variables": {},
   "exception": true,
   "input_path": "__notebook__.ipynb",
   "output_path": "__notebook__.ipynb",
   "parameters": {},
   "start_time": "2024-03-15T20:01:41.291630",
   "version": "2.5.0"
  }
 },
 "nbformat": 4,
 "nbformat_minor": 5
}
